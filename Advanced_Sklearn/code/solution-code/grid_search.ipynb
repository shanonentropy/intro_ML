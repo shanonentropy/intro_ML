{
 "cells": [
  {
   "cell_type": "markdown",
   "metadata": {},
   "source": [
    "# Efficiently searching for optimal tuning parameters\n",
    "*From the video series: [Introduction to machine learning with scikit-learn](https://github.com/justmarkham/scikit-learn-videos)*"
   ]
  },
  {
   "cell_type": "markdown",
   "metadata": {},
   "source": [
    "## Agenda\n",
    "\n",
    "- How can K-fold cross-validation be used to search for an **optimal tuning parameter**?\n",
    "- How can this process be made **more efficient**?\n",
    "- How do you search for **multiple tuning parameters** at once?\n",
    "- What do you do with those tuning parameters before making **real predictions**?\n",
    "- How can the **computational expense** of this process be reduced?"
   ]
  },
  {
   "cell_type": "markdown",
   "metadata": {},
   "source": [
    "## Review of K-fold cross-validation"
   ]
  },
  {
   "cell_type": "markdown",
   "metadata": {},
   "source": [
    "Steps for cross-validation:\n",
    "\n",
    "- Dataset is split into K \"folds\" of **equal size**\n",
    "- Each fold acts as the **testing set** 1 time, and acts as the **training set** K-1 times\n",
    "- **Average testing performance** is used as the estimate of out-of-sample performance\n",
    "\n",
    "Benefits of cross-validation:\n",
    "\n",
    "- More **reliable** estimate of out-of-sample performance than train/test split\n",
    "- Can be used for selecting **tuning parameters**, choosing between **models**, and selecting **features**\n",
    "\n",
    "Drawbacks of cross-validation:\n",
    "\n",
    "- Can be computationally **expensive**"
   ]
  },
  {
   "cell_type": "markdown",
   "metadata": {},
   "source": [
    "## Review of parameter tuning using `cross_val_score`"
   ]
  },
  {
   "cell_type": "markdown",
   "metadata": {},
   "source": [
    "**Goal:** Select the best tuning parameters (aka \"hyperparameters\") for KNN on the iris dataset"
   ]
  },
  {
   "cell_type": "code",
   "execution_count": 1,
   "metadata": {},
   "outputs": [],
   "source": [
    "import pandas as pd\n",
    "from sklearn.datasets import load_iris\n",
    "from sklearn.neighbors import KNeighborsClassifier\n",
    "from sklearn.model_selection import cross_val_score\n",
    "import matplotlib.pyplot as plt\n",
    "%matplotlib inline"
   ]
  },
  {
   "cell_type": "code",
   "execution_count": 2,
   "metadata": {},
   "outputs": [],
   "source": [
    "# read in the iris data\n",
    "iris = load_iris()\n",
    "\n",
    "# create X (features) and y (response)\n",
    "X = iris.data\n",
    "y = iris.target"
   ]
  },
  {
   "cell_type": "code",
   "execution_count": 3,
   "metadata": {},
   "outputs": [
    {
     "name": "stdout",
     "output_type": "stream",
     "text": [
      "0.96\n",
      "0.9533333333333334\n",
      "0.9666666666666666\n",
      "0.9666666666666666\n",
      "0.9666666666666668\n",
      "0.9666666666666668\n",
      "0.9666666666666668\n",
      "0.9666666666666668\n",
      "0.9733333333333334\n",
      "0.9666666666666668\n"
     ]
    }
   ],
   "source": [
    "# 10-fold cross-validation with K=5 for KNN (the n_neighbors parameter)\n",
    "for k in range(1,11):\n",
    "    knn = KNeighborsClassifier(n_neighbors=k)\n",
    "    scores = cross_val_score(knn,X,y, cv=10, scoring='accuracy')\n",
    "    print(scores.mean())"
   ]
  },
  {
   "cell_type": "code",
   "execution_count": 4,
   "metadata": {},
   "outputs": [
    {
     "name": "stdout",
     "output_type": "stream",
     "text": [
      "0.9666666666666668\n"
     ]
    }
   ],
   "source": [
    "# use average accuracy as an estimate of out-of-sample accuracy\n",
    "print(scores.mean())"
   ]
  },
  {
   "cell_type": "code",
   "execution_count": 5,
   "metadata": {},
   "outputs": [
    {
     "name": "stdout",
     "output_type": "stream",
     "text": [
      "[0.96, 0.9533333333333334, 0.9666666666666666, 0.9666666666666666, 0.9666666666666668, 0.9666666666666668, 0.9666666666666668, 0.9666666666666668, 0.9733333333333334, 0.9666666666666668, 0.9666666666666668, 0.9733333333333334, 0.9800000000000001, 0.9733333333333334, 0.9733333333333334, 0.9733333333333334, 0.9733333333333334, 0.9800000000000001, 0.9733333333333334, 0.9800000000000001, 0.9666666666666666, 0.9666666666666666, 0.9733333333333334, 0.96, 0.9666666666666666, 0.96, 0.9666666666666666, 0.9533333333333334, 0.9533333333333334, 0.9533333333333334]\n"
     ]
    }
   ],
   "source": [
    "# search for an optimal value of K for KNN\n",
    "k_range = range(1, 31)\n",
    "k_scores = []\n",
    "\n",
    "for k in k_range:\n",
    "    #instantiate knn\n",
    "    knn = KNeighborsClassifier(n_neighbors=k)\n",
    "    \n",
    "    #run cross validation and keep the score\n",
    "    scores = cross_val_score(knn, X, y, cv=10, scoring='accuracy')\n",
    "\n",
    "    #add mean score to k_scores list\n",
    "    k_scores.append(scores.mean())\n",
    "\n",
    "print(k_scores)"
   ]
  },
  {
   "cell_type": "code",
   "execution_count": 6,
   "metadata": {},
   "outputs": [
    {
     "data": {
      "text/plain": [
       "Text(0, 0.5, 'Cross-Validated Accuracy')"
      ]
     },
     "execution_count": 6,
     "metadata": {},
     "output_type": "execute_result"
    },
    {
     "data": {
      "image/png": "[encoded data removed]",
      "text/plain": [
       "<Figure size 432x288 with 1 Axes>"
      ]
     },
     "metadata": {
      "needs_background": "light"
     },
     "output_type": "display_data"
    }
   ],
   "source": [
    "# plot the value of K for KNN (x-axis) versus the cross-validated accuracy (y-axis)\n",
    "plt.plot(k_range, k_scores)\n",
    "plt.xlabel('Value of K for KNN')\n",
    "plt.ylabel('Cross-Validated Accuracy')"
   ]
  },
  {
   "cell_type": "markdown",
   "metadata": {},
   "source": [
    "### Exercise: \n",
    "\n",
    "- Add the weight hyperparameter to the existing code (use uniform and distance)\n",
    "- Store the k value, weight, and score\n",
    "- Create a DataFrame with the results, provide it column names, order sort it to show the hyperparameters for the top 5 results"
   ]
  },
  {
   "cell_type": "code",
   "execution_count": 7,
   "metadata": {},
   "outputs": [],
   "source": [
    "# search for an optimal value of K for KNN\n",
    "k_range = range(1, 31)\n",
    "weights = ['uniform','distance']\n",
    "k_scores = []\n",
    "\n",
    "for weight in weights:\n",
    "    for k in k_range:\n",
    "        #instantiate knn\n",
    "        knn = KNeighborsClassifier(n_neighbors=k, weights=weight)\n",
    "\n",
    "        #run cross validation and keep the score\n",
    "        scores = cross_val_score(knn, X, y, cv=10, scoring='accuracy')\n",
    "\n",
    "        #add mean score to k_scores list\n",
    "        k_scores.append([k, weight, scores.mean()])"
   ]
  },
  {
   "cell_type": "code",
   "execution_count": 8,
   "metadata": {},
   "outputs": [
    {
     "data": {
      "text/html": [
       "<div>\n",
       "<style scoped>\n",
       "    .dataframe tbody tr th:only-of-type {\n",
       "        vertical-align: middle;\n",
       "    }\n",
       "\n",
       "    .dataframe tbody tr th {\n",
       "        vertical-align: top;\n",
       "    }\n",
       "\n",
       "    .dataframe thead th {\n",
       "        text-align: right;\n",
       "    }\n",
       "</style>\n",
       "<table border=\"1\" class=\"dataframe\">\n",
       "  <thead>\n",
       "    <tr style=\"text-align: right;\">\n",
       "      <th></th>\n",
       "      <th>k</th>\n",
       "      <th>weight</th>\n",
       "      <th>score</th>\n",
       "    </tr>\n",
       "  </thead>\n",
       "  <tbody>\n",
       "    <tr>\n",
       "      <th>17</th>\n",
       "      <td>18</td>\n",
       "      <td>uniform</td>\n",
       "      <td>0.98</td>\n",
       "    </tr>\n",
       "    <tr>\n",
       "      <th>19</th>\n",
       "      <td>20</td>\n",
       "      <td>uniform</td>\n",
       "      <td>0.98</td>\n",
       "    </tr>\n",
       "    <tr>\n",
       "      <th>48</th>\n",
       "      <td>19</td>\n",
       "      <td>distance</td>\n",
       "      <td>0.98</td>\n",
       "    </tr>\n",
       "    <tr>\n",
       "      <th>46</th>\n",
       "      <td>17</td>\n",
       "      <td>distance</td>\n",
       "      <td>0.98</td>\n",
       "    </tr>\n",
       "    <tr>\n",
       "      <th>44</th>\n",
       "      <td>15</td>\n",
       "      <td>distance</td>\n",
       "      <td>0.98</td>\n",
       "    </tr>\n",
       "  </tbody>\n",
       "</table>\n",
       "</div>"
      ],
      "text/plain": [
       "     k    weight  score\n",
       "17  18   uniform   0.98\n",
       "19  20   uniform   0.98\n",
       "48  19  distance   0.98\n",
       "46  17  distance   0.98\n",
       "44  15  distance   0.98"
      ]
     },
     "execution_count": 8,
     "metadata": {},
     "output_type": "execute_result"
    }
   ],
   "source": [
    "# plot the value of K for KNN (x-axis) versus the cross-validated accuracy (y-axis)\n",
    "pd.DataFrame(k_scores, columns=['k','weight','score']).sort_values('score', ascending=False).head()"
   ]
  },
  {
   "cell_type": "markdown",
   "metadata": {},
   "source": [
    "### Exercise: \n",
    "\n",
    "- Add the metric hyperparameter to the existing code (use minkowski and manhattan)\n",
    "- Store the k value, weight, metric, and score\n",
    "- Create a DataFrame with the results, provide it column names, order sort it to show the hyperparameters for the top 5 results"
   ]
  },
  {
   "cell_type": "code",
   "execution_count": 9,
   "metadata": {},
   "outputs": [],
   "source": [
    "# search for an optimal value of K for KNN\n",
    "k_range = range(1, 31)\n",
    "weights = ['uniform','distance']\n",
    "metrics = ['minkowski', 'manhattan']\n",
    "k_scores = []\n",
    "\n",
    "for metric in metrics:\n",
    "    for weight in weights:\n",
    "        for k in k_range:\n",
    "            #instantiate knn\n",
    "            knn = KNeighborsClassifier(n_neighbors=k, weights=weight, metric=metric)\n",
    "\n",
    "            #run cross validation and keep the score\n",
    "            scores = cross_val_score(knn, X, y, cv=10, scoring='accuracy')\n",
    "\n",
    "            #add mean score to k_scores list\n",
    "            k_scores.append([k, weight, metric, scores.mean()])"
   ]
  },
  {
   "cell_type": "code",
   "execution_count": 10,
   "metadata": {},
   "outputs": [
    {
     "data": {
      "text/html": [
       "<div>\n",
       "<style scoped>\n",
       "    .dataframe tbody tr th:only-of-type {\n",
       "        vertical-align: middle;\n",
       "    }\n",
       "\n",
       "    .dataframe tbody tr th {\n",
       "        vertical-align: top;\n",
       "    }\n",
       "\n",
       "    .dataframe thead th {\n",
       "        text-align: right;\n",
       "    }\n",
       "</style>\n",
       "<table border=\"1\" class=\"dataframe\">\n",
       "  <thead>\n",
       "    <tr style=\"text-align: right;\">\n",
       "      <th></th>\n",
       "      <th>k</th>\n",
       "      <th>weight</th>\n",
       "      <th>metric</th>\n",
       "      <th>score</th>\n",
       "    </tr>\n",
       "  </thead>\n",
       "  <tbody>\n",
       "    <tr>\n",
       "      <th>46</th>\n",
       "      <td>17</td>\n",
       "      <td>distance</td>\n",
       "      <td>minkowski</td>\n",
       "      <td>0.98</td>\n",
       "    </tr>\n",
       "    <tr>\n",
       "      <th>48</th>\n",
       "      <td>19</td>\n",
       "      <td>distance</td>\n",
       "      <td>minkowski</td>\n",
       "      <td>0.98</td>\n",
       "    </tr>\n",
       "    <tr>\n",
       "      <th>19</th>\n",
       "      <td>20</td>\n",
       "      <td>uniform</td>\n",
       "      <td>minkowski</td>\n",
       "      <td>0.98</td>\n",
       "    </tr>\n",
       "    <tr>\n",
       "      <th>17</th>\n",
       "      <td>18</td>\n",
       "      <td>uniform</td>\n",
       "      <td>minkowski</td>\n",
       "      <td>0.98</td>\n",
       "    </tr>\n",
       "    <tr>\n",
       "      <th>12</th>\n",
       "      <td>13</td>\n",
       "      <td>uniform</td>\n",
       "      <td>minkowski</td>\n",
       "      <td>0.98</td>\n",
       "    </tr>\n",
       "  </tbody>\n",
       "</table>\n",
       "</div>"
      ],
      "text/plain": [
       "     k    weight     metric  score\n",
       "46  17  distance  minkowski   0.98\n",
       "48  19  distance  minkowski   0.98\n",
       "19  20   uniform  minkowski   0.98\n",
       "17  18   uniform  minkowski   0.98\n",
       "12  13   uniform  minkowski   0.98"
      ]
     },
     "execution_count": 10,
     "metadata": {},
     "output_type": "execute_result"
    }
   ],
   "source": [
    "# plot the value of K for KNN (x-axis) versus the cross-validated accuracy (y-axis)\n",
    "pd.DataFrame(k_scores, columns=['k','weight','metric','score']).sort_values('score', ascending=False).head()"
   ]
  },
  {
   "cell_type": "markdown",
   "metadata": {},
   "source": [
    "## More efficient parameter tuning using `GridSearchCV`"
   ]
  },
  {
   "cell_type": "markdown",
   "metadata": {},
   "source": [
    "Allows you to define a **grid of parameters** that will be **searched** using K-fold cross-validation"
   ]
  },
  {
   "cell_type": "code",
   "execution_count": 11,
   "metadata": {},
   "outputs": [],
   "source": [
    "from sklearn.model_selection import GridSearchCV"
   ]
  },
  {
   "cell_type": "code",
   "execution_count": 12,
   "metadata": {},
   "outputs": [
    {
     "name": "stdout",
     "output_type": "stream",
     "text": [
      "[10, 11, 12, 13, 14, 15, 16, 17, 18, 19]\n"
     ]
    }
   ],
   "source": [
    "# define the parameter values that should be searched\n",
    "k_range = list(range(10, 20))\n",
    "print(k_range)"
   ]
  },
  {
   "cell_type": "code",
   "execution_count": 13,
   "metadata": {},
   "outputs": [
    {
     "name": "stdout",
     "output_type": "stream",
     "text": [
      "{'n_neighbors': [10, 11, 12, 13, 14, 15, 16, 17, 18, 19]}\n"
     ]
    }
   ],
   "source": [
    "# create a parameter grid: map the parameter names to the values that should be searched\n",
    "param_grid = dict(n_neighbors=k_range)\n",
    "print(param_grid)"
   ]
  },
  {
   "cell_type": "code",
   "execution_count": 14,
   "metadata": {},
   "outputs": [],
   "source": [
    "knn = KNeighborsClassifier()"
   ]
  },
  {
   "cell_type": "code",
   "execution_count": 15,
   "metadata": {},
   "outputs": [],
   "source": [
    "# instantiate the grid\n",
    "grid = GridSearchCV(knn, param_grid, cv=10, scoring='accuracy', return_train_score=True)"
   ]
  },
  {
   "cell_type": "markdown",
   "metadata": {},
   "source": [
    "- You can set **`n_jobs = -1`** to run computations in parallel (if supported by your computer and OS)"
   ]
  },
  {
   "cell_type": "code",
   "execution_count": 16,
   "metadata": {},
   "outputs": [
    {
     "data": {
      "text/plain": [
       "GridSearchCV(cv=10, error_score=nan,\n",
       "             estimator=KNeighborsClassifier(algorithm='auto', leaf_size=30,\n",
       "                                            metric='minkowski',\n",
       "                                            metric_params=None, n_jobs=None,\n",
       "                                            n_neighbors=5, p=2,\n",
       "                                            weights='uniform'),\n",
       "             iid='deprecated', n_jobs=None,\n",
       "             param_grid={'n_neighbors': [10, 11, 12, 13, 14, 15, 16, 17, 18,\n",
       "                                         19]},\n",
       "             pre_dispatch='2*n_jobs', refit=True, return_train_score=True,\n",
       "             scoring='accuracy', verbose=0)"
      ]
     },
     "execution_count": 16,
     "metadata": {},
     "output_type": "execute_result"
    }
   ],
   "source": [
    "# fit the grid with data\n",
    "grid.fit(X, y)"
   ]
  },
  {
   "cell_type": "code",
   "execution_count": 17,
   "metadata": {},
   "outputs": [
    {
     "data": {
      "text/plain": [
       "{'mean_fit_time': array([0.00098732, 0.00036187, 0.00033576, 0.00032179, 0.00033948,\n",
       "        0.00032575, 0.00033741, 0.00034204, 0.0003397 , 0.00032113]),\n",
       " 'std_fit_time': array([1.63648141e-03, 4.39178154e-05, 1.88450395e-05, 2.99507261e-06,\n",
       "        2.96327439e-05, 1.30865741e-05, 2.66947478e-05, 5.78012594e-05,\n",
       "        3.25585515e-05, 2.44875729e-06]),\n",
       " 'mean_score_time': array([0.00174694, 0.00098934, 0.00097511, 0.0009371 , 0.00097611,\n",
       "        0.00094028, 0.00095649, 0.00093582, 0.00098207, 0.00093746]),\n",
       " 'std_score_time': array([1.39132767e-03, 9.04256768e-05, 6.69263035e-05, 3.66376132e-05,\n",
       "        8.26842679e-05, 3.96772930e-05, 4.08673091e-05, 1.67105573e-05,\n",
       "        9.91100298e-05, 2.09588781e-05]),\n",
       " 'param_n_neighbors': masked_array(data=[10, 11, 12, 13, 14, 15, 16, 17, 18, 19],\n",
       "              mask=[False, False, False, False, False, False, False, False,\n",
       "                    False, False],\n",
       "        fill_value='?',\n",
       "             dtype=object),\n",
       " 'params': [{'n_neighbors': 10},\n",
       "  {'n_neighbors': 11},\n",
       "  {'n_neighbors': 12},\n",
       "  {'n_neighbors': 13},\n",
       "  {'n_neighbors': 14},\n",
       "  {'n_neighbors': 15},\n",
       "  {'n_neighbors': 16},\n",
       "  {'n_neighbors': 17},\n",
       "  {'n_neighbors': 18},\n",
       "  {'n_neighbors': 19}],\n",
       " 'split0_test_score': array([1.        , 1.        , 1.        , 1.        , 1.        ,\n",
       "        0.93333333, 1.        , 0.93333333, 1.        , 0.93333333]),\n",
       " 'split1_test_score': array([0.93333333, 0.93333333, 0.93333333, 0.93333333, 0.93333333,\n",
       "        0.93333333, 0.93333333, 0.93333333, 0.93333333, 0.93333333]),\n",
       " 'split2_test_score': array([1., 1., 1., 1., 1., 1., 1., 1., 1., 1.]),\n",
       " 'split3_test_score': array([1., 1., 1., 1., 1., 1., 1., 1., 1., 1.]),\n",
       " 'split4_test_score': array([1., 1., 1., 1., 1., 1., 1., 1., 1., 1.]),\n",
       " 'split5_test_score': array([0.86666667, 0.86666667, 0.93333333, 0.93333333, 0.86666667,\n",
       "        0.93333333, 0.93333333, 0.93333333, 0.93333333, 0.93333333]),\n",
       " 'split6_test_score': array([0.93333333, 0.93333333, 0.93333333, 0.93333333, 0.93333333,\n",
       "        0.93333333, 0.93333333, 0.93333333, 0.93333333, 0.93333333]),\n",
       " 'split7_test_score': array([0.93333333, 0.93333333, 0.93333333, 1.        , 1.        ,\n",
       "        1.        , 0.93333333, 1.        , 1.        , 1.        ]),\n",
       " 'split8_test_score': array([1., 1., 1., 1., 1., 1., 1., 1., 1., 1.]),\n",
       " 'split9_test_score': array([1., 1., 1., 1., 1., 1., 1., 1., 1., 1.]),\n",
       " 'mean_test_score': array([0.96666667, 0.96666667, 0.97333333, 0.98      , 0.97333333,\n",
       "        0.97333333, 0.97333333, 0.97333333, 0.98      , 0.97333333]),\n",
       " 'std_test_score': array([0.04472136, 0.04472136, 0.03265986, 0.0305505 , 0.04422166,\n",
       "        0.03265986, 0.03265986, 0.03265986, 0.0305505 , 0.03265986]),\n",
       " 'rank_test_score': array([9, 9, 3, 1, 3, 3, 3, 3, 1, 3], dtype=int32),\n",
       " 'split0_train_score': array([0.97037037, 0.97037037, 0.97037037, 0.97777778, 0.97037037,\n",
       "        0.97777778, 0.97037037, 0.97777778, 0.97777778, 0.97777778]),\n",
       " 'split1_train_score': array([0.98518519, 0.98518519, 0.99259259, 0.97777778, 0.97777778,\n",
       "        0.97777778, 0.98518519, 0.98518519, 0.98518519, 0.98518519]),\n",
       " 'split2_train_score': array([0.97777778, 0.98518519, 0.98518519, 0.97777778, 0.98518519,\n",
       "        0.97777778, 0.98518519, 0.97777778, 0.97777778, 0.97777778]),\n",
       " 'split3_train_score': array([0.97777778, 0.97777778, 0.97777778, 0.97777778, 0.97777778,\n",
       "        0.97777778, 0.98518519, 0.97777778, 0.97777778, 0.97777778]),\n",
       " 'split4_train_score': array([0.97777778, 0.98518519, 0.97777778, 0.98518519, 0.97777778,\n",
       "        0.97777778, 0.97777778, 0.97777778, 0.97777778, 0.97777778]),\n",
       " 'split5_train_score': array([0.97037037, 0.98518519, 0.97777778, 0.98518519, 0.97777778,\n",
       "        0.97777778, 0.97777778, 0.98518519, 0.98518519, 0.97777778]),\n",
       " 'split6_train_score': array([0.98518519, 0.99259259, 0.98518519, 0.99259259, 0.99259259,\n",
       "        0.98518519, 0.98518519, 0.97777778, 0.98518519, 0.98518519]),\n",
       " 'split7_train_score': array([0.97777778, 0.97777778, 0.97037037, 0.97037037, 0.97777778,\n",
       "        0.97777778, 0.97037037, 0.97777778, 0.97777778, 0.97777778]),\n",
       " 'split8_train_score': array([0.97777778, 0.97777778, 0.98518519, 0.97777778, 0.98518519,\n",
       "        0.98518519, 0.97777778, 0.97777778, 0.97777778, 0.97777778]),\n",
       " 'split9_train_score': array([0.96296296, 0.96296296, 0.96296296, 0.97777778, 0.97037037,\n",
       "        0.97777778, 0.96296296, 0.96296296, 0.95555556, 0.96296296]),\n",
       " 'mean_train_score': array([0.9762963 , 0.98      , 0.97851852, 0.98      , 0.97925926,\n",
       "        0.97925926, 0.97777778, 0.97777778, 0.97777778, 0.97777778]),\n",
       " 'std_train_score': array([0.00645763, 0.00814815, 0.0084132 , 0.00578537, 0.00645763,\n",
       "        0.00296296, 0.00740741, 0.00573775, 0.00811441, 0.00573775])}"
      ]
     },
     "execution_count": 17,
     "metadata": {},
     "output_type": "execute_result"
    }
   ],
   "source": [
    "# view the complete results (list of named tuples)\n",
    "grid.cv_results_"
   ]
  },
  {
   "cell_type": "code",
   "execution_count": 18,
   "metadata": {},
   "outputs": [
    {
     "name": "stdout",
     "output_type": "stream",
     "text": [
      "{'n_neighbors': 10}\n",
      "0.9666666666666668\n"
     ]
    }
   ],
   "source": [
    "# examine the first tuple\n",
    "print(grid.cv_results_['params'][0])\n",
    "print(grid.cv_results_['mean_test_score'][0])"
   ]
  },
  {
   "cell_type": "code",
   "execution_count": 19,
   "metadata": {},
   "outputs": [
    {
     "name": "stdout",
     "output_type": "stream",
     "text": [
      "[0.9666666666666668, 0.9666666666666668, 0.9733333333333334, 0.9800000000000001, 0.9733333333333334, 0.9733333333333334, 0.9733333333333334, 0.9733333333333334, 0.9800000000000001, 0.9733333333333334]\n"
     ]
    }
   ],
   "source": [
    "# create a list of the mean scores only\n",
    "grid_mean_scores = [result for result in grid.cv_results_['mean_test_score']]\n",
    "print(grid_mean_scores)"
   ]
  },
  {
   "cell_type": "code",
   "execution_count": 20,
   "metadata": {},
   "outputs": [
    {
     "data": {
      "text/plain": [
       "Text(0, 0.5, 'Cross-Validated Accuracy')"
      ]
     },
     "execution_count": 20,
     "metadata": {},
     "output_type": "execute_result"
    },
    {
     "data": {
      "image/png": "[encoded data removed]",
      "text/plain": [
       "<Figure size 432x288 with 1 Axes>"
      ]
     },
     "metadata": {
      "needs_background": "light"
     },
     "output_type": "display_data"
    }
   ],
   "source": [
    "# plot the results\n",
    "plt.plot(k_range, grid_mean_scores)\n",
    "plt.xlabel('Value of K for KNN')\n",
    "plt.ylabel('Cross-Validated Accuracy')"
   ]
  },
  {
   "cell_type": "code",
   "execution_count": 21,
   "metadata": {},
   "outputs": [
    {
     "name": "stdout",
     "output_type": "stream",
     "text": [
      "0.9800000000000001\n",
      "{'n_neighbors': 13}\n",
      "KNeighborsClassifier(algorithm='auto', leaf_size=30, metric='minkowski',\n",
      "                     metric_params=None, n_jobs=None, n_neighbors=13, p=2,\n",
      "                     weights='uniform')\n"
     ]
    }
   ],
   "source": [
    "# examine the best model\n",
    "print(grid.best_score_)\n",
    "print(grid.best_params_)\n",
    "print(grid.best_estimator_)"
   ]
  },
  {
   "cell_type": "markdown",
   "metadata": {},
   "source": [
    "### Exercise\n",
    "\n",
    "- Create a GridSearchCV using a RandomForestClassifier \n",
    "- Create a param_grid to test 20 values for n_estimators"
   ]
  },
  {
   "cell_type": "code",
   "execution_count": 22,
   "metadata": {},
   "outputs": [
    {
     "name": "stdout",
     "output_type": "stream",
     "text": [
      "0.9666666666666666\n",
      "{'n_estimators': 7}\n",
      "RandomForestClassifier(bootstrap=True, ccp_alpha=0.0, class_weight=None,\n",
      "                       criterion='gini', max_depth=None, max_features='auto',\n",
      "                       max_leaf_nodes=None, max_samples=None,\n",
      "                       min_impurity_decrease=0.0, min_impurity_split=None,\n",
      "                       min_samples_leaf=1, min_samples_split=2,\n",
      "                       min_weight_fraction_leaf=0.0, n_estimators=7,\n",
      "                       n_jobs=None, oob_score=False, random_state=None,\n",
      "                       verbose=0, warm_start=False)\n"
     ]
    }
   ],
   "source": [
    "from sklearn.ensemble import RandomForestClassifier\n",
    "\n",
    "# create a random forest\n",
    "rf = RandomForestClassifier()\n",
    "\n",
    "# create a param_grid\n",
    "param_grid = {'n_estimators':list(range(1,20))}\n",
    "\n",
    "# create a grid search\n",
    "grid = GridSearchCV(rf, param_grid, cv=10, scoring='accuracy', return_train_score=True)\n",
    "\n",
    "# fit the grid search\n",
    "grid.fit(X,y)\n",
    "\n",
    "# view the best_score_, best_params_, and best_estimator_\n",
    "print(grid.best_score_)\n",
    "print(grid.best_params_)\n",
    "print(grid.best_estimator_)"
   ]
  },
  {
   "cell_type": "markdown",
   "metadata": {},
   "source": [
    "## Searching multiple parameters simultaneously"
   ]
  },
  {
   "cell_type": "markdown",
   "metadata": {},
   "source": [
    "- **Example:** tuning `max_depth` and `min_samples_leaf` for a `DecisionTreeClassifier`\n",
    "- Could tune parameters **independently**: change `max_depth` while leaving `min_samples_leaf` at its default value, and vice versa\n",
    "- But, best performance might be achieved when **neither parameter** is at its default value"
   ]
  },
  {
   "cell_type": "code",
   "execution_count": 23,
   "metadata": {},
   "outputs": [],
   "source": [
    "# define the parameter values that should be searched\n",
    "k_range = list(range(1, 31))\n",
    "weight_options = ['uniform', 'distance']"
   ]
  },
  {
   "cell_type": "code",
   "execution_count": 24,
   "metadata": {},
   "outputs": [
    {
     "name": "stdout",
     "output_type": "stream",
     "text": [
      "{'n_neighbors': [1, 2, 3, 4, 5, 6, 7, 8, 9, 10, 11, 12, 13, 14, 15, 16, 17, 18, 19, 20, 21, 22, 23, 24, 25, 26, 27, 28, 29, 30], 'weights': ['uniform', 'distance']}\n"
     ]
    }
   ],
   "source": [
    "# create a parameter grid: map the parameter names to the values that should be searched\n",
    "param_grid = dict(n_neighbors=k_range, weights=weight_options)\n",
    "print(param_grid)"
   ]
  },
  {
   "cell_type": "code",
   "execution_count": 25,
   "metadata": {},
   "outputs": [
    {
     "data": {
      "text/plain": [
       "GridSearchCV(cv=10, error_score=nan,\n",
       "             estimator=KNeighborsClassifier(algorithm='auto', leaf_size=30,\n",
       "                                            metric='minkowski',\n",
       "                                            metric_params=None, n_jobs=None,\n",
       "                                            n_neighbors=5, p=2,\n",
       "                                            weights='uniform'),\n",
       "             iid='deprecated', n_jobs=None,\n",
       "             param_grid={'n_neighbors': [1, 2, 3, 4, 5, 6, 7, 8, 9, 10, 11, 12,\n",
       "                                         13, 14, 15, 16, 17, 18, 19, 20, 21, 22,\n",
       "                                         23, 24, 25, 26, 27, 28, 29, 30],\n",
       "                         'weights': ['uniform', 'distance']},\n",
       "             pre_dispatch='2*n_jobs', refit=True, return_train_score=False,\n",
       "             scoring='accuracy', verbose=0)"
      ]
     },
     "execution_count": 25,
     "metadata": {},
     "output_type": "execute_result"
    }
   ],
   "source": [
    "# instantiate and fit the grid\n",
    "grid = GridSearchCV(knn, param_grid, cv=10, scoring='accuracy')\n",
    "grid.fit(X, y)"
   ]
  },
  {
   "cell_type": "code",
   "execution_count": 30,
   "metadata": {},
   "outputs": [
    {
     "data": {
      "text/plain": [
       "{'mean_fit_time': array([0.00114229, 0.00050218, 0.00046759, 0.00037408, 0.00037789,\n",
       "        0.0003392 , 0.00042245, 0.00033872, 0.00041907, 0.00036807,\n",
       "        0.00039797, 0.0003628 , 0.00036604, 0.00039635, 0.00033975,\n",
       "        0.0003283 , 0.000319  , 0.00033193, 0.00032098, 0.00031767,\n",
       "        0.00039239, 0.00033412, 0.0003231 , 0.00033123, 0.00032005,\n",
       "        0.00031769, 0.00031745, 0.00037112, 0.00033679, 0.00031862,\n",
       "        0.00032136, 0.00034258, 0.00031884, 0.00031621, 0.00034084,\n",
       "        0.00038164, 0.00033681, 0.00032463, 0.00032284, 0.00032802,\n",
       "        0.00031822, 0.00031748, 0.00043602, 0.00032918, 0.00032198,\n",
       "        0.00031707, 0.00032229, 0.00031769, 0.00032039, 0.000353  ,\n",
       "        0.00032866, 0.00033066, 0.00032253, 0.00031881, 0.00031734,\n",
       "        0.00031905, 0.00032191, 0.00044308, 0.00033729, 0.00032127]),\n",
       " 'std_fit_time': array([6.62571146e-04, 1.02514447e-04, 8.51634902e-05, 2.63432571e-05,\n",
       "        6.21998387e-05, 2.15589069e-05, 1.36188167e-04, 1.79894836e-05,\n",
       "        9.11372319e-05, 4.77768227e-05, 9.92872868e-05, 5.52863897e-05,\n",
       "        7.43659653e-05, 1.07575044e-04, 2.48639831e-05, 9.96007704e-06,\n",
       "        5.19073988e-06, 2.94432563e-05, 9.71159971e-06, 1.88998424e-06,\n",
       "        1.51100351e-04, 1.78626916e-05, 1.47468396e-05, 3.80552276e-05,\n",
       "        3.76399438e-06, 1.10421526e-06, 2.16226067e-06, 1.25904028e-04,\n",
       "        1.94068037e-05, 2.60564348e-06, 4.70047535e-06, 5.48381857e-05,\n",
       "        2.98747137e-06, 1.58884116e-06, 5.15845691e-05, 7.90010710e-05,\n",
       "        2.74425999e-05, 1.33978514e-05, 1.09420622e-05, 2.84883366e-05,\n",
       "        1.52308238e-06, 1.79115677e-06, 3.17495296e-04, 8.54726450e-06,\n",
       "        6.49203766e-06, 1.43626170e-06, 1.39517859e-05, 2.11978118e-06,\n",
       "        1.01851345e-05, 7.11930173e-05, 2.64902247e-06, 1.49210606e-05,\n",
       "        8.70002430e-06, 2.55853241e-06, 1.19685177e-06, 4.37132516e-06,\n",
       "        7.78121687e-06, 3.38402687e-04, 2.28100800e-05, 7.93489842e-06]),\n",
       " 'mean_score_time': array([0.00223105, 0.0011142 , 0.00130866, 0.00081484, 0.00106153,\n",
       "        0.00068159, 0.00127838, 0.00074079, 0.0010936 , 0.00073786,\n",
       "        0.00102642, 0.00079575, 0.00106189, 0.0007484 , 0.00097401,\n",
       "        0.00065925, 0.00094302, 0.0006876 , 0.00092657, 0.00063782,\n",
       "        0.00107031, 0.000665  , 0.00095713, 0.00067489, 0.00094018,\n",
       "        0.00063784, 0.00094872, 0.00084012, 0.00098703, 0.00069802,\n",
       "        0.00096984, 0.00068579, 0.00098271, 0.00064673, 0.00096967,\n",
       "        0.00090778, 0.00101805, 0.000664  , 0.00097749, 0.00065336,\n",
       "        0.00093093, 0.00065584, 0.00107141, 0.00067062, 0.00095816,\n",
       "        0.00067255, 0.00093789, 0.00065699, 0.00100646, 0.00084145,\n",
       "        0.00099108, 0.00070457, 0.0009748 , 0.00066338, 0.00095937,\n",
       "        0.00066597, 0.00098362, 0.00075691, 0.000998  , 0.00068161]),\n",
       " 'std_score_time': array([5.80816257e-04, 4.07605622e-04, 2.23870284e-04, 1.48912819e-04,\n",
       "        1.34895336e-04, 7.43418645e-05, 2.90558375e-04, 1.17268861e-04,\n",
       "        1.82775559e-04, 1.16794193e-04, 1.11050524e-04, 2.19784152e-04,\n",
       "        1.71738265e-04, 2.02521672e-04, 8.53736984e-05, 5.05907652e-05,\n",
       "        5.25219463e-05, 5.92705902e-05, 3.03652152e-05, 2.21207733e-05,\n",
       "        2.35405571e-04, 3.04653421e-05, 9.48205556e-05, 6.99784361e-05,\n",
       "        5.32843069e-05, 3.84445800e-06, 5.53133981e-05, 4.16010936e-04,\n",
       "        6.52502868e-05, 5.92466139e-05, 6.23136775e-05, 7.38626145e-05,\n",
       "        1.00767200e-04, 4.57887831e-06, 4.95618782e-05, 5.28031427e-04,\n",
       "        9.20593382e-05, 2.52449138e-05, 8.79527689e-05, 4.59993416e-06,\n",
       "        7.44324323e-06, 8.64759667e-06, 1.54780813e-04, 1.66141316e-05,\n",
       "        3.15756223e-05, 4.75419381e-05, 5.77622828e-06, 5.87226461e-06,\n",
       "        1.22025470e-04, 4.18498422e-04, 3.34587922e-05, 5.97859296e-05,\n",
       "        3.77154078e-05, 4.42097740e-06, 4.25580102e-05, 5.35041252e-06,\n",
       "        6.80816933e-05, 1.26319197e-04, 4.52000945e-05, 1.70142855e-05]),\n",
       " 'param_n_neighbors': masked_array(data=[1, 1, 2, 2, 3, 3, 4, 4, 5, 5, 6, 6, 7, 7, 8, 8, 9, 9,\n",
       "                    10, 10, 11, 11, 12, 12, 13, 13, 14, 14, 15, 15, 16, 16,\n",
       "                    17, 17, 18, 18, 19, 19, 20, 20, 21, 21, 22, 22, 23, 23,\n",
       "                    24, 24, 25, 25, 26, 26, 27, 27, 28, 28, 29, 29, 30, 30],\n",
       "              mask=[False, False, False, False, False, False, False, False,\n",
       "                    False, False, False, False, False, False, False, False,\n",
       "                    False, False, False, False, False, False, False, False,\n",
       "                    False, False, False, False, False, False, False, False,\n",
       "                    False, False, False, False, False, False, False, False,\n",
       "                    False, False, False, False, False, False, False, False,\n",
       "                    False, False, False, False, False, False, False, False,\n",
       "                    False, False, False, False],\n",
       "        fill_value='?',\n",
       "             dtype=object),\n",
       " 'param_weights': masked_array(data=['uniform', 'distance', 'uniform', 'distance',\n",
       "                    'uniform', 'distance', 'uniform', 'distance',\n",
       "                    'uniform', 'distance', 'uniform', 'distance',\n",
       "                    'uniform', 'distance', 'uniform', 'distance',\n",
       "                    'uniform', 'distance', 'uniform', 'distance',\n",
       "                    'uniform', 'distance', 'uniform', 'distance',\n",
       "                    'uniform', 'distance', 'uniform', 'distance',\n",
       "                    'uniform', 'distance', 'uniform', 'distance',\n",
       "                    'uniform', 'distance', 'uniform', 'distance',\n",
       "                    'uniform', 'distance', 'uniform', 'distance',\n",
       "                    'uniform', 'distance', 'uniform', 'distance',\n",
       "                    'uniform', 'distance', 'uniform', 'distance',\n",
       "                    'uniform', 'distance', 'uniform', 'distance',\n",
       "                    'uniform', 'distance', 'uniform', 'distance',\n",
       "                    'uniform', 'distance', 'uniform', 'distance'],\n",
       "              mask=[False, False, False, False, False, False, False, False,\n",
       "                    False, False, False, False, False, False, False, False,\n",
       "                    False, False, False, False, False, False, False, False,\n",
       "                    False, False, False, False, False, False, False, False,\n",
       "                    False, False, False, False, False, False, False, False,\n",
       "                    False, False, False, False, False, False, False, False,\n",
       "                    False, False, False, False, False, False, False, False,\n",
       "                    False, False, False, False],\n",
       "        fill_value='?',\n",
       "             dtype=object),\n",
       " 'params': [{'n_neighbors': 1, 'weights': 'uniform'},\n",
       "  {'n_neighbors': 1, 'weights': 'distance'},\n",
       "  {'n_neighbors': 2, 'weights': 'uniform'},\n",
       "  {'n_neighbors': 2, 'weights': 'distance'},\n",
       "  {'n_neighbors': 3, 'weights': 'uniform'},\n",
       "  {'n_neighbors': 3, 'weights': 'distance'},\n",
       "  {'n_neighbors': 4, 'weights': 'uniform'},\n",
       "  {'n_neighbors': 4, 'weights': 'distance'},\n",
       "  {'n_neighbors': 5, 'weights': 'uniform'},\n",
       "  {'n_neighbors': 5, 'weights': 'distance'},\n",
       "  {'n_neighbors': 6, 'weights': 'uniform'},\n",
       "  {'n_neighbors': 6, 'weights': 'distance'},\n",
       "  {'n_neighbors': 7, 'weights': 'uniform'},\n",
       "  {'n_neighbors': 7, 'weights': 'distance'},\n",
       "  {'n_neighbors': 8, 'weights': 'uniform'},\n",
       "  {'n_neighbors': 8, 'weights': 'distance'},\n",
       "  {'n_neighbors': 9, 'weights': 'uniform'},\n",
       "  {'n_neighbors': 9, 'weights': 'distance'},\n",
       "  {'n_neighbors': 10, 'weights': 'uniform'},\n",
       "  {'n_neighbors': 10, 'weights': 'distance'},\n",
       "  {'n_neighbors': 11, 'weights': 'uniform'},\n",
       "  {'n_neighbors': 11, 'weights': 'distance'},\n",
       "  {'n_neighbors': 12, 'weights': 'uniform'},\n",
       "  {'n_neighbors': 12, 'weights': 'distance'},\n",
       "  {'n_neighbors': 13, 'weights': 'uniform'},\n",
       "  {'n_neighbors': 13, 'weights': 'distance'},\n",
       "  {'n_neighbors': 14, 'weights': 'uniform'},\n",
       "  {'n_neighbors': 14, 'weights': 'distance'},\n",
       "  {'n_neighbors': 15, 'weights': 'uniform'},\n",
       "  {'n_neighbors': 15, 'weights': 'distance'},\n",
       "  {'n_neighbors': 16, 'weights': 'uniform'},\n",
       "  {'n_neighbors': 16, 'weights': 'distance'},\n",
       "  {'n_neighbors': 17, 'weights': 'uniform'},\n",
       "  {'n_neighbors': 17, 'weights': 'distance'},\n",
       "  {'n_neighbors': 18, 'weights': 'uniform'},\n",
       "  {'n_neighbors': 18, 'weights': 'distance'},\n",
       "  {'n_neighbors': 19, 'weights': 'uniform'},\n",
       "  {'n_neighbors': 19, 'weights': 'distance'},\n",
       "  {'n_neighbors': 20, 'weights': 'uniform'},\n",
       "  {'n_neighbors': 20, 'weights': 'distance'},\n",
       "  {'n_neighbors': 21, 'weights': 'uniform'},\n",
       "  {'n_neighbors': 21, 'weights': 'distance'},\n",
       "  {'n_neighbors': 22, 'weights': 'uniform'},\n",
       "  {'n_neighbors': 22, 'weights': 'distance'},\n",
       "  {'n_neighbors': 23, 'weights': 'uniform'},\n",
       "  {'n_neighbors': 23, 'weights': 'distance'},\n",
       "  {'n_neighbors': 24, 'weights': 'uniform'},\n",
       "  {'n_neighbors': 24, 'weights': 'distance'},\n",
       "  {'n_neighbors': 25, 'weights': 'uniform'},\n",
       "  {'n_neighbors': 25, 'weights': 'distance'},\n",
       "  {'n_neighbors': 26, 'weights': 'uniform'},\n",
       "  {'n_neighbors': 26, 'weights': 'distance'},\n",
       "  {'n_neighbors': 27, 'weights': 'uniform'},\n",
       "  {'n_neighbors': 27, 'weights': 'distance'},\n",
       "  {'n_neighbors': 28, 'weights': 'uniform'},\n",
       "  {'n_neighbors': 28, 'weights': 'distance'},\n",
       "  {'n_neighbors': 29, 'weights': 'uniform'},\n",
       "  {'n_neighbors': 29, 'weights': 'distance'},\n",
       "  {'n_neighbors': 30, 'weights': 'uniform'},\n",
       "  {'n_neighbors': 30, 'weights': 'distance'}],\n",
       " 'split0_test_score': array([1.        , 1.        , 1.        , 1.        , 1.        ,\n",
       "        1.        , 1.        , 1.        , 1.        , 1.        ,\n",
       "        1.        , 1.        , 1.        , 1.        , 1.        ,\n",
       "        1.        , 1.        , 1.        , 1.        , 1.        ,\n",
       "        1.        , 1.        , 1.        , 1.        , 1.        ,\n",
       "        1.        , 1.        , 1.        , 0.93333333, 1.        ,\n",
       "        1.        , 1.        , 0.93333333, 1.        , 1.        ,\n",
       "        1.        , 0.93333333, 1.        , 1.        , 1.        ,\n",
       "        0.93333333, 1.        , 0.93333333, 1.        , 0.93333333,\n",
       "        1.        , 0.93333333, 1.        , 0.93333333, 1.        ,\n",
       "        0.93333333, 1.        , 0.93333333, 1.        , 0.93333333,\n",
       "        1.        , 0.93333333, 1.        , 0.93333333, 1.        ]),\n",
       " 'split1_test_score': array([0.93333333, 0.93333333, 0.93333333, 0.93333333, 0.93333333,\n",
       "        0.93333333, 0.93333333, 0.93333333, 0.93333333, 0.93333333,\n",
       "        0.93333333, 0.93333333, 0.93333333, 0.93333333, 0.93333333,\n",
       "        0.93333333, 0.93333333, 0.93333333, 0.93333333, 0.93333333,\n",
       "        0.93333333, 0.93333333, 0.93333333, 0.93333333, 0.93333333,\n",
       "        0.93333333, 0.93333333, 0.93333333, 0.93333333, 0.93333333,\n",
       "        0.93333333, 0.93333333, 0.93333333, 0.93333333, 0.93333333,\n",
       "        0.93333333, 0.93333333, 0.93333333, 0.93333333, 0.93333333,\n",
       "        0.93333333, 0.93333333, 0.93333333, 0.93333333, 0.93333333,\n",
       "        0.93333333, 0.93333333, 0.93333333, 0.93333333, 0.93333333,\n",
       "        0.93333333, 0.93333333, 0.93333333, 0.93333333, 0.93333333,\n",
       "        0.93333333, 0.93333333, 0.93333333, 0.93333333, 0.93333333]),\n",
       " 'split2_test_score': array([1., 1., 1., 1., 1., 1., 1., 1., 1., 1., 1., 1., 1., 1., 1., 1., 1.,\n",
       "        1., 1., 1., 1., 1., 1., 1., 1., 1., 1., 1., 1., 1., 1., 1., 1., 1.,\n",
       "        1., 1., 1., 1., 1., 1., 1., 1., 1., 1., 1., 1., 1., 1., 1., 1., 1.,\n",
       "        1., 1., 1., 1., 1., 1., 1., 1., 1.]),\n",
       " 'split3_test_score': array([0.93333333, 0.93333333, 0.93333333, 0.93333333, 0.93333333,\n",
       "        0.93333333, 0.93333333, 0.93333333, 1.        , 1.        ,\n",
       "        1.        , 1.        , 1.        , 1.        , 1.        ,\n",
       "        1.        , 1.        , 1.        , 1.        , 1.        ,\n",
       "        1.        , 1.        , 1.        , 1.        , 1.        ,\n",
       "        1.        , 1.        , 1.        , 1.        , 1.        ,\n",
       "        1.        , 1.        , 1.        , 1.        , 1.        ,\n",
       "        1.        , 1.        , 1.        , 1.        , 1.        ,\n",
       "        1.        , 1.        , 1.        , 1.        , 1.        ,\n",
       "        1.        , 1.        , 1.        , 1.        , 1.        ,\n",
       "        1.        , 1.        , 1.        , 1.        , 0.93333333,\n",
       "        1.        , 0.93333333, 0.93333333, 0.93333333, 0.93333333]),\n",
       " 'split4_test_score': array([0.86666667, 0.86666667, 0.86666667, 0.86666667, 0.86666667,\n",
       "        0.86666667, 0.86666667, 0.86666667, 0.86666667, 0.86666667,\n",
       "        0.86666667, 0.86666667, 0.86666667, 0.86666667, 1.        ,\n",
       "        0.86666667, 1.        , 0.93333333, 1.        , 0.93333333,\n",
       "        1.        , 0.93333333, 1.        , 0.86666667, 1.        ,\n",
       "        0.93333333, 1.        , 0.93333333, 1.        , 1.        ,\n",
       "        1.        , 0.93333333, 1.        , 1.        , 1.        ,\n",
       "        0.93333333, 1.        , 1.        , 1.        , 0.86666667,\n",
       "        0.93333333, 0.86666667, 1.        , 0.86666667, 1.        ,\n",
       "        0.93333333, 1.        , 0.93333333, 1.        , 0.93333333,\n",
       "        1.        , 0.86666667, 1.        , 1.        , 1.        ,\n",
       "        0.93333333, 1.        , 1.        , 1.        , 0.93333333]),\n",
       " 'split5_test_score': array([1.        , 1.        , 1.        , 1.        , 1.        ,\n",
       "        1.        , 1.        , 1.        , 0.93333333, 0.93333333,\n",
       "        0.93333333, 0.93333333, 0.93333333, 0.93333333, 0.86666667,\n",
       "        0.93333333, 0.93333333, 0.93333333, 0.86666667, 0.93333333,\n",
       "        0.86666667, 0.93333333, 0.93333333, 1.        , 0.93333333,\n",
       "        0.93333333, 0.86666667, 0.93333333, 0.93333333, 0.93333333,\n",
       "        0.93333333, 0.93333333, 0.93333333, 0.93333333, 0.93333333,\n",
       "        0.93333333, 0.93333333, 0.93333333, 0.93333333, 0.93333333,\n",
       "        0.93333333, 0.93333333, 0.93333333, 0.93333333, 0.93333333,\n",
       "        0.93333333, 0.86666667, 0.93333333, 0.93333333, 0.93333333,\n",
       "        0.86666667, 0.93333333, 0.86666667, 0.93333333, 0.86666667,\n",
       "        0.93333333, 0.86666667, 0.93333333, 0.86666667, 0.93333333]),\n",
       " 'split6_test_score': array([0.86666667, 0.86666667, 0.86666667, 0.86666667, 0.93333333,\n",
       "        0.93333333, 0.93333333, 0.93333333, 0.93333333, 0.93333333,\n",
       "        0.93333333, 0.93333333, 0.93333333, 0.93333333, 0.93333333,\n",
       "        0.93333333, 0.93333333, 0.93333333, 0.93333333, 0.93333333,\n",
       "        0.93333333, 0.93333333, 0.93333333, 0.93333333, 0.93333333,\n",
       "        0.93333333, 0.93333333, 0.93333333, 0.93333333, 0.93333333,\n",
       "        0.93333333, 0.93333333, 0.93333333, 0.93333333, 0.93333333,\n",
       "        0.93333333, 0.93333333, 0.93333333, 0.93333333, 0.93333333,\n",
       "        0.93333333, 0.93333333, 0.93333333, 0.93333333, 0.93333333,\n",
       "        0.93333333, 0.93333333, 0.93333333, 0.93333333, 0.93333333,\n",
       "        0.93333333, 0.93333333, 0.93333333, 0.93333333, 0.93333333,\n",
       "        0.93333333, 0.93333333, 0.93333333, 0.93333333, 0.93333333]),\n",
       " 'split7_test_score': array([1.        , 1.        , 0.93333333, 1.        , 1.        ,\n",
       "        1.        , 1.        , 1.        , 1.        , 1.        ,\n",
       "        1.        , 1.        , 1.        , 1.        , 0.93333333,\n",
       "        1.        , 0.93333333, 1.        , 0.93333333, 1.        ,\n",
       "        0.93333333, 1.        , 0.93333333, 1.        , 1.        ,\n",
       "        1.        , 1.        , 1.        , 1.        , 1.        ,\n",
       "        0.93333333, 1.        , 1.        , 1.        , 1.        ,\n",
       "        1.        , 1.        , 1.        , 1.        , 1.        ,\n",
       "        1.        , 1.        , 0.93333333, 1.        , 1.        ,\n",
       "        1.        , 0.93333333, 1.        , 0.93333333, 1.        ,\n",
       "        0.93333333, 1.        , 1.        , 1.        , 0.93333333,\n",
       "        1.        , 0.93333333, 1.        , 0.93333333, 1.        ]),\n",
       " 'split8_test_score': array([1., 1., 1., 1., 1., 1., 1., 1., 1., 1., 1., 1., 1., 1., 1., 1., 1.,\n",
       "        1., 1., 1., 1., 1., 1., 1., 1., 1., 1., 1., 1., 1., 1., 1., 1., 1.,\n",
       "        1., 1., 1., 1., 1., 1., 1., 1., 1., 1., 1., 1., 1., 1., 1., 1., 1.,\n",
       "        1., 1., 1., 1., 1., 1., 1., 1., 1.]),\n",
       " 'split9_test_score': array([1., 1., 1., 1., 1., 1., 1., 1., 1., 1., 1., 1., 1., 1., 1., 1., 1.,\n",
       "        1., 1., 1., 1., 1., 1., 1., 1., 1., 1., 1., 1., 1., 1., 1., 1., 1.,\n",
       "        1., 1., 1., 1., 1., 1., 1., 1., 1., 1., 1., 1., 1., 1., 1., 1., 1.,\n",
       "        1., 1., 1., 1., 1., 1., 1., 1., 1.]),\n",
       " 'mean_test_score': array([0.96      , 0.96      , 0.95333333, 0.96      , 0.96666667,\n",
       "        0.96666667, 0.96666667, 0.96666667, 0.96666667, 0.96666667,\n",
       "        0.96666667, 0.96666667, 0.96666667, 0.96666667, 0.96666667,\n",
       "        0.96666667, 0.97333333, 0.97333333, 0.96666667, 0.97333333,\n",
       "        0.96666667, 0.97333333, 0.97333333, 0.97333333, 0.98      ,\n",
       "        0.97333333, 0.97333333, 0.97333333, 0.97333333, 0.98      ,\n",
       "        0.97333333, 0.97333333, 0.97333333, 0.98      , 0.98      ,\n",
       "        0.97333333, 0.97333333, 0.98      , 0.98      , 0.96666667,\n",
       "        0.96666667, 0.96666667, 0.96666667, 0.96666667, 0.97333333,\n",
       "        0.97333333, 0.96      , 0.97333333, 0.96666667, 0.97333333,\n",
       "        0.96      , 0.96666667, 0.96666667, 0.98      , 0.95333333,\n",
       "        0.97333333, 0.95333333, 0.97333333, 0.95333333, 0.96666667]),\n",
       " 'std_test_score': array([0.05333333, 0.05333333, 0.05206833, 0.05333333, 0.04472136,\n",
       "        0.04472136, 0.04472136, 0.04472136, 0.04472136, 0.04472136,\n",
       "        0.04472136, 0.04472136, 0.04472136, 0.04472136, 0.04472136,\n",
       "        0.04472136, 0.03265986, 0.03265986, 0.04472136, 0.03265986,\n",
       "        0.04472136, 0.03265986, 0.03265986, 0.04422166, 0.0305505 ,\n",
       "        0.03265986, 0.04422166, 0.03265986, 0.03265986, 0.0305505 ,\n",
       "        0.03265986, 0.03265986, 0.03265986, 0.0305505 , 0.0305505 ,\n",
       "        0.03265986, 0.03265986, 0.0305505 , 0.0305505 , 0.04472136,\n",
       "        0.03333333, 0.04472136, 0.03333333, 0.04472136, 0.03265986,\n",
       "        0.03265986, 0.04422166, 0.03265986, 0.03333333, 0.03265986,\n",
       "        0.04422166, 0.04472136, 0.04472136, 0.0305505 , 0.04268749,\n",
       "        0.03265986, 0.04268749, 0.03265986, 0.04268749, 0.03333333]),\n",
       " 'rank_test_score': array([52, 52, 57, 52, 43, 43, 43, 43, 29, 29, 29, 29, 29, 29, 29, 29,  8,\n",
       "         8, 29,  8, 29,  8,  8,  8,  1,  8,  8,  8,  8,  1,  8,  8,  8,  1,\n",
       "         1,  8,  8,  1,  1, 29, 43, 29, 43, 29,  8,  8, 52,  8, 43,  8, 52,\n",
       "        29, 43,  1, 57,  8, 57,  8, 57, 43], dtype=int32)}"
      ]
     },
     "execution_count": 30,
     "metadata": {},
     "output_type": "execute_result"
    }
   ],
   "source": [
    "# view the complete results\n",
    "grid.cv_results_"
   ]
  },
  {
   "cell_type": "code",
   "execution_count": 31,
   "metadata": {},
   "outputs": [
    {
     "name": "stdout",
     "output_type": "stream",
     "text": [
      "0.9800000000000001\n",
      "{'n_neighbors': 13, 'weights': 'uniform'}\n"
     ]
    }
   ],
   "source": [
    "# examine the best model\n",
    "print(grid.best_score_)\n",
    "print(grid.best_params_)"
   ]
  },
  {
   "cell_type": "markdown",
   "metadata": {},
   "source": [
    "## Using the best parameters to make predictions"
   ]
  },
  {
   "cell_type": "code",
   "execution_count": 32,
   "metadata": {},
   "outputs": [
    {
     "data": {
      "text/plain": [
       "array([1])"
      ]
     },
     "execution_count": 32,
     "metadata": {},
     "output_type": "execute_result"
    }
   ],
   "source": [
    "# train your model using all data and the best known parameters\n",
    "knn = KNeighborsClassifier(n_neighbors=13, weights='uniform')\n",
    "knn.fit(X, y)\n",
    "\n",
    "# make a prediction on out-of-sample data\n",
    "knn.predict([[3, 5, 4, 2]])"
   ]
  },
  {
   "cell_type": "code",
   "execution_count": 33,
   "metadata": {},
   "outputs": [
    {
     "data": {
      "text/plain": [
       "array([1])"
      ]
     },
     "execution_count": 33,
     "metadata": {},
     "output_type": "execute_result"
    }
   ],
   "source": [
    "# shortcut: GridSearchCV automatically refits the best model using all of the data\n",
    "grid.predict([[3, 5, 4, 2]])"
   ]
  },
  {
   "cell_type": "markdown",
   "metadata": {},
   "source": [
    "## Reducing computational expense using `RandomizedSearchCV`"
   ]
  },
  {
   "cell_type": "markdown",
   "metadata": {},
   "source": [
    "- Searching many different parameters at once may be computationally infeasible\n",
    "- `RandomizedSearchCV` searches a subset of the parameters, and you control the computational \"budget\""
   ]
  },
  {
   "cell_type": "code",
   "execution_count": 34,
   "metadata": {},
   "outputs": [],
   "source": [
    "from sklearn.model_selection import RandomizedSearchCV"
   ]
  },
  {
   "cell_type": "code",
   "execution_count": 35,
   "metadata": {},
   "outputs": [],
   "source": [
    "# specify \"parameter distributions\" rather than a \"parameter grid\"\n",
    "param_dist = dict(n_neighbors=k_range, weights=weight_options)"
   ]
  },
  {
   "cell_type": "markdown",
   "metadata": {},
   "source": [
    "- **Important:** Specify a continuous distribution (rather than a list of values) for any continous parameters"
   ]
  },
  {
   "cell_type": "code",
   "execution_count": 36,
   "metadata": {},
   "outputs": [
    {
     "data": {
      "text/plain": [
       "{'mean_fit_time': array([0.00066519, 0.00036607, 0.00033138, 0.00033996, 0.00033376,\n",
       "        0.00032101, 0.0003293 , 0.0003372 , 0.00032485, 0.000388  ]),\n",
       " 'std_fit_time': array([2.36982695e-04, 3.82985442e-05, 1.17733644e-05, 2.70065113e-05,\n",
       "        1.80526952e-05, 1.37871097e-06, 1.68039607e-05, 3.84049410e-05,\n",
       "        5.85097847e-06, 8.25722538e-05]),\n",
       " 'mean_score_time': array([0.00135248, 0.00102441, 0.00094845, 0.00101509, 0.00096335,\n",
       "        0.00064118, 0.0006835 , 0.00096288, 0.00064437, 0.00110128]),\n",
       " 'std_score_time': array([5.36199908e-04, 7.32852369e-05, 1.83270704e-05, 8.97878291e-05,\n",
       "        9.11694690e-06, 9.52603812e-06, 4.73746536e-05, 9.37876508e-05,\n",
       "        1.02575697e-05, 2.06225000e-04]),\n",
       " 'param_weights': masked_array(data=['distance', 'uniform', 'uniform', 'uniform', 'uniform',\n",
       "                    'distance', 'distance', 'uniform', 'distance',\n",
       "                    'uniform'],\n",
       "              mask=[False, False, False, False, False, False, False, False,\n",
       "                    False, False],\n",
       "        fill_value='?',\n",
       "             dtype=object),\n",
       " 'param_n_neighbors': masked_array(data=[16, 22, 18, 27, 29, 10, 22, 14, 12, 15],\n",
       "              mask=[False, False, False, False, False, False, False, False,\n",
       "                    False, False],\n",
       "        fill_value='?',\n",
       "             dtype=object),\n",
       " 'params': [{'weights': 'distance', 'n_neighbors': 16},\n",
       "  {'weights': 'uniform', 'n_neighbors': 22},\n",
       "  {'weights': 'uniform', 'n_neighbors': 18},\n",
       "  {'weights': 'uniform', 'n_neighbors': 27},\n",
       "  {'weights': 'uniform', 'n_neighbors': 29},\n",
       "  {'weights': 'distance', 'n_neighbors': 10},\n",
       "  {'weights': 'distance', 'n_neighbors': 22},\n",
       "  {'weights': 'uniform', 'n_neighbors': 14},\n",
       "  {'weights': 'distance', 'n_neighbors': 12},\n",
       "  {'weights': 'uniform', 'n_neighbors': 15}],\n",
       " 'split0_test_score': array([1.        , 0.93333333, 1.        , 0.93333333, 0.93333333,\n",
       "        1.        , 1.        , 1.        , 1.        , 0.93333333]),\n",
       " 'split1_test_score': array([0.93333333, 0.93333333, 0.93333333, 0.93333333, 0.93333333,\n",
       "        0.93333333, 0.93333333, 0.93333333, 0.93333333, 0.93333333]),\n",
       " 'split2_test_score': array([1., 1., 1., 1., 1., 1., 1., 1., 1., 1.]),\n",
       " 'split3_test_score': array([1.        , 1.        , 1.        , 1.        , 0.93333333,\n",
       "        1.        , 1.        , 1.        , 1.        , 1.        ]),\n",
       " 'split4_test_score': array([0.93333333, 1.        , 1.        , 1.        , 1.        ,\n",
       "        0.93333333, 0.86666667, 1.        , 0.86666667, 1.        ]),\n",
       " 'split5_test_score': array([0.93333333, 0.93333333, 0.93333333, 0.86666667, 0.86666667,\n",
       "        0.93333333, 0.93333333, 0.86666667, 1.        , 0.93333333]),\n",
       " 'split6_test_score': array([0.93333333, 0.93333333, 0.93333333, 0.93333333, 0.93333333,\n",
       "        0.93333333, 0.93333333, 0.93333333, 0.93333333, 0.93333333]),\n",
       " 'split7_test_score': array([1.        , 0.93333333, 1.        , 1.        , 0.93333333,\n",
       "        1.        , 1.        , 1.        , 1.        , 1.        ]),\n",
       " 'split8_test_score': array([1., 1., 1., 1., 1., 1., 1., 1., 1., 1.]),\n",
       " 'split9_test_score': array([1., 1., 1., 1., 1., 1., 1., 1., 1., 1.]),\n",
       " 'mean_test_score': array([0.97333333, 0.96666667, 0.98      , 0.96666667, 0.95333333,\n",
       "        0.97333333, 0.96666667, 0.97333333, 0.97333333, 0.97333333]),\n",
       " 'std_test_score': array([0.03265986, 0.03333333, 0.0305505 , 0.04472136, 0.04268749,\n",
       "        0.03265986, 0.04472136, 0.04422166, 0.04422166, 0.03265986]),\n",
       " 'rank_test_score': array([ 2,  8,  1,  8, 10,  2,  7,  2,  2,  2], dtype=int32),\n",
       " 'split0_train_score': array([1.        , 0.97777778, 0.97777778, 0.96296296, 0.95555556,\n",
       "        1.        , 1.        , 0.97037037, 1.        , 0.97777778]),\n",
       " 'split1_train_score': array([1.        , 0.98518519, 0.98518519, 0.97777778, 0.97777778,\n",
       "        1.        , 1.        , 0.97777778, 1.        , 0.97777778]),\n",
       " 'split2_train_score': array([1.        , 0.95555556, 0.97777778, 0.94074074, 0.95555556,\n",
       "        1.        , 1.        , 0.98518519, 1.        , 0.97777778]),\n",
       " 'split3_train_score': array([1.        , 0.97777778, 0.97777778, 0.97037037, 0.97037037,\n",
       "        1.        , 1.        , 0.97777778, 1.        , 0.97777778]),\n",
       " 'split4_train_score': array([1.        , 0.97037037, 0.97777778, 0.94814815, 0.94814815,\n",
       "        1.        , 1.        , 0.97777778, 1.        , 0.97777778]),\n",
       " 'split5_train_score': array([1.        , 0.97777778, 0.98518519, 0.97037037, 0.96296296,\n",
       "        1.        , 1.        , 0.97777778, 1.        , 0.97777778]),\n",
       " 'split6_train_score': array([1.        , 0.97777778, 0.98518519, 0.97037037, 0.96296296,\n",
       "        1.        , 1.        , 0.99259259, 1.        , 0.98518519]),\n",
       " 'split7_train_score': array([1.        , 0.97037037, 0.97777778, 0.97037037, 0.96296296,\n",
       "        1.        , 1.        , 0.97777778, 1.        , 0.97777778]),\n",
       " 'split8_train_score': array([1.        , 0.97037037, 0.97777778, 0.97037037, 0.95555556,\n",
       "        1.        , 1.        , 0.98518519, 1.        , 0.98518519]),\n",
       " 'split9_train_score': array([1.        , 0.94814815, 0.95555556, 0.93333333, 0.94074074,\n",
       "        1.        , 1.        , 0.97037037, 1.        , 0.97777778]),\n",
       " 'mean_train_score': array([1.        , 0.97111111, 0.97777778, 0.96148148, 0.95925926,\n",
       "        1.        , 1.        , 0.97925926, 1.        , 0.97925926]),\n",
       " 'std_train_score': array([0.        , 0.01070876, 0.00811441, 0.0143635 , 0.01007516,\n",
       "        0.        , 0.        , 0.00645763, 0.        , 0.00296296])}"
      ]
     },
     "execution_count": 36,
     "metadata": {},
     "output_type": "execute_result"
    }
   ],
   "source": [
    "# n_iter controls the number of searches\n",
    "rand = RandomizedSearchCV(knn, param_dist, cv=10, scoring='accuracy',\n",
    "                          n_iter=10, random_state=5, return_train_score=True)\n",
    "rand.fit(X, y)\n",
    "rand.cv_results_"
   ]
  },
  {
   "cell_type": "code",
   "execution_count": 44,
   "metadata": {},
   "outputs": [
    {
     "name": "stdout",
     "output_type": "stream",
     "text": [
      "0.9666666666666666\n",
      "{'n_estimators': 13, 'min_samples_leaf': 1}\n"
     ]
    }
   ],
   "source": [
    "# examine the best model\n",
    "print(rand.best_score_)\n",
    "print(rand.best_params_)"
   ]
  },
  {
   "cell_type": "code",
   "execution_count": 53,
   "metadata": {},
   "outputs": [
    {
     "ename": "ValueError",
     "evalue": "Invalid parameter n_estimators for estimator KNeighborsClassifier(algorithm='auto', leaf_size=30, metric='minkowski',\n                     metric_params=None, n_jobs=None, n_neighbors=13, p=2,\n                     weights='uniform'). Check the list of available parameters with `estimator.get_params().keys()`.",
     "output_type": "error",
     "traceback": [
      "\u001b[0;31m---------------------------------------------------------------------------\u001b[0m",
      "\u001b[0;31mValueError\u001b[0m                                Traceback (most recent call last)",
      "\u001b[0;32m<ipython-input-53-37848f4d290d>\u001b[0m in \u001b[0;36m<module>\u001b[0;34m\u001b[0m\n\u001b[1;32m      3\u001b[0m \u001b[0;32mfor\u001b[0m \u001b[0m_\u001b[0m \u001b[0;32min\u001b[0m \u001b[0mrange\u001b[0m\u001b[0;34m(\u001b[0m\u001b[0;36m20\u001b[0m\u001b[0;34m)\u001b[0m\u001b[0;34m:\u001b[0m\u001b[0;34m\u001b[0m\u001b[0;34m\u001b[0m\u001b[0m\n\u001b[1;32m      4\u001b[0m     \u001b[0mrand\u001b[0m \u001b[0;34m=\u001b[0m \u001b[0mRandomizedSearchCV\u001b[0m\u001b[0;34m(\u001b[0m\u001b[0mknn\u001b[0m\u001b[0;34m,\u001b[0m \u001b[0mparam_dist\u001b[0m\u001b[0;34m,\u001b[0m \u001b[0mcv\u001b[0m\u001b[0;34m=\u001b[0m\u001b[0;36m10\u001b[0m\u001b[0;34m,\u001b[0m \u001b[0mscoring\u001b[0m\u001b[0;34m=\u001b[0m\u001b[0;34m'accuracy'\u001b[0m\u001b[0;34m)\u001b[0m\u001b[0;34m\u001b[0m\u001b[0;34m\u001b[0m\u001b[0m\n\u001b[0;32m----> 5\u001b[0;31m     \u001b[0mrand\u001b[0m\u001b[0;34m.\u001b[0m\u001b[0mfit\u001b[0m\u001b[0;34m(\u001b[0m\u001b[0mX\u001b[0m\u001b[0;34m,\u001b[0m \u001b[0my\u001b[0m\u001b[0;34m)\u001b[0m\u001b[0;34m\u001b[0m\u001b[0;34m\u001b[0m\u001b[0m\n\u001b[0m\u001b[1;32m      6\u001b[0m     \u001b[0mbest_scores\u001b[0m\u001b[0;34m.\u001b[0m\u001b[0mappend\u001b[0m\u001b[0;34m(\u001b[0m\u001b[0mround\u001b[0m\u001b[0;34m(\u001b[0m\u001b[0mrand\u001b[0m\u001b[0;34m.\u001b[0m\u001b[0mbest_score_\u001b[0m\u001b[0;34m,\u001b[0m \u001b[0;36m3\u001b[0m\u001b[0;34m)\u001b[0m\u001b[0;34m)\u001b[0m\u001b[0;34m\u001b[0m\u001b[0;34m\u001b[0m\u001b[0m\n\u001b[1;32m      7\u001b[0m \u001b[0mprint\u001b[0m\u001b[0;34m(\u001b[0m\u001b[0mbest_scores\u001b[0m\u001b[0;34m)\u001b[0m\u001b[0;34m\u001b[0m\u001b[0;34m\u001b[0m\u001b[0m\n",
      "\u001b[0;32m/opt/anaconda3/lib/python3.7/site-packages/sklearn/model_selection/_search.py\u001b[0m in \u001b[0;36mfit\u001b[0;34m(self, X, y, groups, **fit_params)\u001b[0m\n\u001b[1;32m    708\u001b[0m                 \u001b[0;32mreturn\u001b[0m \u001b[0mresults\u001b[0m\u001b[0;34m\u001b[0m\u001b[0;34m\u001b[0m\u001b[0m\n\u001b[1;32m    709\u001b[0m \u001b[0;34m\u001b[0m\u001b[0m\n\u001b[0;32m--> 710\u001b[0;31m             \u001b[0mself\u001b[0m\u001b[0;34m.\u001b[0m\u001b[0m_run_search\u001b[0m\u001b[0;34m(\u001b[0m\u001b[0mevaluate_candidates\u001b[0m\u001b[0;34m)\u001b[0m\u001b[0;34m\u001b[0m\u001b[0;34m\u001b[0m\u001b[0m\n\u001b[0m\u001b[1;32m    711\u001b[0m \u001b[0;34m\u001b[0m\u001b[0m\n\u001b[1;32m    712\u001b[0m         \u001b[0;31m# For multi-metric evaluation, store the best_index_, best_params_ and\u001b[0m\u001b[0;34m\u001b[0m\u001b[0;34m\u001b[0m\u001b[0;34m\u001b[0m\u001b[0m\n",
      "\u001b[0;32m/opt/anaconda3/lib/python3.7/site-packages/sklearn/model_selection/_search.py\u001b[0m in \u001b[0;36m_run_search\u001b[0;34m(self, evaluate_candidates)\u001b[0m\n\u001b[1;32m   1482\u001b[0m         evaluate_candidates(ParameterSampler(\n\u001b[1;32m   1483\u001b[0m             \u001b[0mself\u001b[0m\u001b[0;34m.\u001b[0m\u001b[0mparam_distributions\u001b[0m\u001b[0;34m,\u001b[0m \u001b[0mself\u001b[0m\u001b[0;34m.\u001b[0m\u001b[0mn_iter\u001b[0m\u001b[0;34m,\u001b[0m\u001b[0;34m\u001b[0m\u001b[0;34m\u001b[0m\u001b[0m\n\u001b[0;32m-> 1484\u001b[0;31m             random_state=self.random_state))\n\u001b[0m",
      "\u001b[0;32m/opt/anaconda3/lib/python3.7/site-packages/sklearn/model_selection/_search.py\u001b[0m in \u001b[0;36mevaluate_candidates\u001b[0;34m(candidate_params)\u001b[0m\n\u001b[1;32m    687\u001b[0m                                \u001b[0;32mfor\u001b[0m \u001b[0mparameters\u001b[0m\u001b[0;34m,\u001b[0m \u001b[0;34m(\u001b[0m\u001b[0mtrain\u001b[0m\u001b[0;34m,\u001b[0m \u001b[0mtest\u001b[0m\u001b[0;34m)\u001b[0m\u001b[0;34m\u001b[0m\u001b[0;34m\u001b[0m\u001b[0m\n\u001b[1;32m    688\u001b[0m                                in product(candidate_params,\n\u001b[0;32m--> 689\u001b[0;31m                                           cv.split(X, y, groups)))\n\u001b[0m\u001b[1;32m    690\u001b[0m \u001b[0;34m\u001b[0m\u001b[0m\n\u001b[1;32m    691\u001b[0m                 \u001b[0;32mif\u001b[0m \u001b[0mlen\u001b[0m\u001b[0;34m(\u001b[0m\u001b[0mout\u001b[0m\u001b[0;34m)\u001b[0m \u001b[0;34m<\u001b[0m \u001b[0;36m1\u001b[0m\u001b[0;34m:\u001b[0m\u001b[0;34m\u001b[0m\u001b[0;34m\u001b[0m\u001b[0m\n",
      "\u001b[0;32m/opt/anaconda3/lib/python3.7/site-packages/joblib/parallel.py\u001b[0m in \u001b[0;36m__call__\u001b[0;34m(self, iterable)\u001b[0m\n\u001b[1;32m   1002\u001b[0m             \u001b[0;31m# remaining jobs.\u001b[0m\u001b[0;34m\u001b[0m\u001b[0;34m\u001b[0m\u001b[0;34m\u001b[0m\u001b[0m\n\u001b[1;32m   1003\u001b[0m             \u001b[0mself\u001b[0m\u001b[0;34m.\u001b[0m\u001b[0m_iterating\u001b[0m \u001b[0;34m=\u001b[0m \u001b[0;32mFalse\u001b[0m\u001b[0;34m\u001b[0m\u001b[0;34m\u001b[0m\u001b[0m\n\u001b[0;32m-> 1004\u001b[0;31m             \u001b[0;32mif\u001b[0m \u001b[0mself\u001b[0m\u001b[0;34m.\u001b[0m\u001b[0mdispatch_one_batch\u001b[0m\u001b[0;34m(\u001b[0m\u001b[0miterator\u001b[0m\u001b[0;34m)\u001b[0m\u001b[0;34m:\u001b[0m\u001b[0;34m\u001b[0m\u001b[0;34m\u001b[0m\u001b[0m\n\u001b[0m\u001b[1;32m   1005\u001b[0m                 \u001b[0mself\u001b[0m\u001b[0;34m.\u001b[0m\u001b[0m_iterating\u001b[0m \u001b[0;34m=\u001b[0m \u001b[0mself\u001b[0m\u001b[0;34m.\u001b[0m\u001b[0m_original_iterator\u001b[0m \u001b[0;32mis\u001b[0m \u001b[0;32mnot\u001b[0m \u001b[0;32mNone\u001b[0m\u001b[0;34m\u001b[0m\u001b[0;34m\u001b[0m\u001b[0m\n\u001b[1;32m   1006\u001b[0m \u001b[0;34m\u001b[0m\u001b[0m\n",
      "\u001b[0;32m/opt/anaconda3/lib/python3.7/site-packages/joblib/parallel.py\u001b[0m in \u001b[0;36mdispatch_one_batch\u001b[0;34m(self, iterator)\u001b[0m\n\u001b[1;32m    833\u001b[0m                 \u001b[0;32mreturn\u001b[0m \u001b[0;32mFalse\u001b[0m\u001b[0;34m\u001b[0m\u001b[0;34m\u001b[0m\u001b[0m\n\u001b[1;32m    834\u001b[0m             \u001b[0;32melse\u001b[0m\u001b[0;34m:\u001b[0m\u001b[0;34m\u001b[0m\u001b[0;34m\u001b[0m\u001b[0m\n\u001b[0;32m--> 835\u001b[0;31m                 \u001b[0mself\u001b[0m\u001b[0;34m.\u001b[0m\u001b[0m_dispatch\u001b[0m\u001b[0;34m(\u001b[0m\u001b[0mtasks\u001b[0m\u001b[0;34m)\u001b[0m\u001b[0;34m\u001b[0m\u001b[0;34m\u001b[0m\u001b[0m\n\u001b[0m\u001b[1;32m    836\u001b[0m                 \u001b[0;32mreturn\u001b[0m \u001b[0;32mTrue\u001b[0m\u001b[0;34m\u001b[0m\u001b[0;34m\u001b[0m\u001b[0m\n\u001b[1;32m    837\u001b[0m \u001b[0;34m\u001b[0m\u001b[0m\n",
      "\u001b[0;32m/opt/anaconda3/lib/python3.7/site-packages/joblib/parallel.py\u001b[0m in \u001b[0;36m_dispatch\u001b[0;34m(self, batch)\u001b[0m\n\u001b[1;32m    752\u001b[0m         \u001b[0;32mwith\u001b[0m \u001b[0mself\u001b[0m\u001b[0;34m.\u001b[0m\u001b[0m_lock\u001b[0m\u001b[0;34m:\u001b[0m\u001b[0;34m\u001b[0m\u001b[0;34m\u001b[0m\u001b[0m\n\u001b[1;32m    753\u001b[0m             \u001b[0mjob_idx\u001b[0m \u001b[0;34m=\u001b[0m \u001b[0mlen\u001b[0m\u001b[0;34m(\u001b[0m\u001b[0mself\u001b[0m\u001b[0;34m.\u001b[0m\u001b[0m_jobs\u001b[0m\u001b[0;34m)\u001b[0m\u001b[0;34m\u001b[0m\u001b[0;34m\u001b[0m\u001b[0m\n\u001b[0;32m--> 754\u001b[0;31m             \u001b[0mjob\u001b[0m \u001b[0;34m=\u001b[0m \u001b[0mself\u001b[0m\u001b[0;34m.\u001b[0m\u001b[0m_backend\u001b[0m\u001b[0;34m.\u001b[0m\u001b[0mapply_async\u001b[0m\u001b[0;34m(\u001b[0m\u001b[0mbatch\u001b[0m\u001b[0;34m,\u001b[0m \u001b[0mcallback\u001b[0m\u001b[0;34m=\u001b[0m\u001b[0mcb\u001b[0m\u001b[0;34m)\u001b[0m\u001b[0;34m\u001b[0m\u001b[0;34m\u001b[0m\u001b[0m\n\u001b[0m\u001b[1;32m    755\u001b[0m             \u001b[0;31m# A job can complete so quickly than its callback is\u001b[0m\u001b[0;34m\u001b[0m\u001b[0;34m\u001b[0m\u001b[0;34m\u001b[0m\u001b[0m\n\u001b[1;32m    756\u001b[0m             \u001b[0;31m# called before we get here, causing self._jobs to\u001b[0m\u001b[0;34m\u001b[0m\u001b[0;34m\u001b[0m\u001b[0;34m\u001b[0m\u001b[0m\n",
      "\u001b[0;32m/opt/anaconda3/lib/python3.7/site-packages/joblib/_parallel_backends.py\u001b[0m in \u001b[0;36mapply_async\u001b[0;34m(self, func, callback)\u001b[0m\n\u001b[1;32m    207\u001b[0m     \u001b[0;32mdef\u001b[0m \u001b[0mapply_async\u001b[0m\u001b[0;34m(\u001b[0m\u001b[0mself\u001b[0m\u001b[0;34m,\u001b[0m \u001b[0mfunc\u001b[0m\u001b[0;34m,\u001b[0m \u001b[0mcallback\u001b[0m\u001b[0;34m=\u001b[0m\u001b[0;32mNone\u001b[0m\u001b[0;34m)\u001b[0m\u001b[0;34m:\u001b[0m\u001b[0;34m\u001b[0m\u001b[0;34m\u001b[0m\u001b[0m\n\u001b[1;32m    208\u001b[0m         \u001b[0;34m\"\"\"Schedule a func to be run\"\"\"\u001b[0m\u001b[0;34m\u001b[0m\u001b[0;34m\u001b[0m\u001b[0m\n\u001b[0;32m--> 209\u001b[0;31m         \u001b[0mresult\u001b[0m \u001b[0;34m=\u001b[0m \u001b[0mImmediateResult\u001b[0m\u001b[0;34m(\u001b[0m\u001b[0mfunc\u001b[0m\u001b[0;34m)\u001b[0m\u001b[0;34m\u001b[0m\u001b[0;34m\u001b[0m\u001b[0m\n\u001b[0m\u001b[1;32m    210\u001b[0m         \u001b[0;32mif\u001b[0m \u001b[0mcallback\u001b[0m\u001b[0;34m:\u001b[0m\u001b[0;34m\u001b[0m\u001b[0;34m\u001b[0m\u001b[0m\n\u001b[1;32m    211\u001b[0m             \u001b[0mcallback\u001b[0m\u001b[0;34m(\u001b[0m\u001b[0mresult\u001b[0m\u001b[0;34m)\u001b[0m\u001b[0;34m\u001b[0m\u001b[0;34m\u001b[0m\u001b[0m\n",
      "\u001b[0;32m/opt/anaconda3/lib/python3.7/site-packages/joblib/_parallel_backends.py\u001b[0m in \u001b[0;36m__init__\u001b[0;34m(self, batch)\u001b[0m\n\u001b[1;32m    588\u001b[0m         \u001b[0;31m# Don't delay the application, to avoid keeping the input\u001b[0m\u001b[0;34m\u001b[0m\u001b[0;34m\u001b[0m\u001b[0;34m\u001b[0m\u001b[0m\n\u001b[1;32m    589\u001b[0m         \u001b[0;31m# arguments in memory\u001b[0m\u001b[0;34m\u001b[0m\u001b[0;34m\u001b[0m\u001b[0;34m\u001b[0m\u001b[0m\n\u001b[0;32m--> 590\u001b[0;31m         \u001b[0mself\u001b[0m\u001b[0;34m.\u001b[0m\u001b[0mresults\u001b[0m \u001b[0;34m=\u001b[0m \u001b[0mbatch\u001b[0m\u001b[0;34m(\u001b[0m\u001b[0;34m)\u001b[0m\u001b[0;34m\u001b[0m\u001b[0;34m\u001b[0m\u001b[0m\n\u001b[0m\u001b[1;32m    591\u001b[0m \u001b[0;34m\u001b[0m\u001b[0m\n\u001b[1;32m    592\u001b[0m     \u001b[0;32mdef\u001b[0m \u001b[0mget\u001b[0m\u001b[0;34m(\u001b[0m\u001b[0mself\u001b[0m\u001b[0;34m)\u001b[0m\u001b[0;34m:\u001b[0m\u001b[0;34m\u001b[0m\u001b[0;34m\u001b[0m\u001b[0m\n",
      "\u001b[0;32m/opt/anaconda3/lib/python3.7/site-packages/joblib/parallel.py\u001b[0m in \u001b[0;36m__call__\u001b[0;34m(self)\u001b[0m\n\u001b[1;32m    254\u001b[0m         \u001b[0;32mwith\u001b[0m \u001b[0mparallel_backend\u001b[0m\u001b[0;34m(\u001b[0m\u001b[0mself\u001b[0m\u001b[0;34m.\u001b[0m\u001b[0m_backend\u001b[0m\u001b[0;34m,\u001b[0m \u001b[0mn_jobs\u001b[0m\u001b[0;34m=\u001b[0m\u001b[0mself\u001b[0m\u001b[0;34m.\u001b[0m\u001b[0m_n_jobs\u001b[0m\u001b[0;34m)\u001b[0m\u001b[0;34m:\u001b[0m\u001b[0;34m\u001b[0m\u001b[0;34m\u001b[0m\u001b[0m\n\u001b[1;32m    255\u001b[0m             return [func(*args, **kwargs)\n\u001b[0;32m--> 256\u001b[0;31m                     for func, args, kwargs in self.items]\n\u001b[0m\u001b[1;32m    257\u001b[0m \u001b[0;34m\u001b[0m\u001b[0m\n\u001b[1;32m    258\u001b[0m     \u001b[0;32mdef\u001b[0m \u001b[0m__len__\u001b[0m\u001b[0;34m(\u001b[0m\u001b[0mself\u001b[0m\u001b[0;34m)\u001b[0m\u001b[0;34m:\u001b[0m\u001b[0;34m\u001b[0m\u001b[0;34m\u001b[0m\u001b[0m\n",
      "\u001b[0;32m/opt/anaconda3/lib/python3.7/site-packages/joblib/parallel.py\u001b[0m in \u001b[0;36m<listcomp>\u001b[0;34m(.0)\u001b[0m\n\u001b[1;32m    254\u001b[0m         \u001b[0;32mwith\u001b[0m \u001b[0mparallel_backend\u001b[0m\u001b[0;34m(\u001b[0m\u001b[0mself\u001b[0m\u001b[0;34m.\u001b[0m\u001b[0m_backend\u001b[0m\u001b[0;34m,\u001b[0m \u001b[0mn_jobs\u001b[0m\u001b[0;34m=\u001b[0m\u001b[0mself\u001b[0m\u001b[0;34m.\u001b[0m\u001b[0m_n_jobs\u001b[0m\u001b[0;34m)\u001b[0m\u001b[0;34m:\u001b[0m\u001b[0;34m\u001b[0m\u001b[0;34m\u001b[0m\u001b[0m\n\u001b[1;32m    255\u001b[0m             return [func(*args, **kwargs)\n\u001b[0;32m--> 256\u001b[0;31m                     for func, args, kwargs in self.items]\n\u001b[0m\u001b[1;32m    257\u001b[0m \u001b[0;34m\u001b[0m\u001b[0m\n\u001b[1;32m    258\u001b[0m     \u001b[0;32mdef\u001b[0m \u001b[0m__len__\u001b[0m\u001b[0;34m(\u001b[0m\u001b[0mself\u001b[0m\u001b[0;34m)\u001b[0m\u001b[0;34m:\u001b[0m\u001b[0;34m\u001b[0m\u001b[0;34m\u001b[0m\u001b[0m\n",
      "\u001b[0;32m/opt/anaconda3/lib/python3.7/site-packages/sklearn/model_selection/_validation.py\u001b[0m in \u001b[0;36m_fit_and_score\u001b[0;34m(estimator, X, y, scorer, train, test, verbose, parameters, fit_params, return_train_score, return_parameters, return_n_test_samples, return_times, return_estimator, error_score)\u001b[0m\n\u001b[1;32m    502\u001b[0m             \u001b[0mcloned_parameters\u001b[0m\u001b[0;34m[\u001b[0m\u001b[0mk\u001b[0m\u001b[0;34m]\u001b[0m \u001b[0;34m=\u001b[0m \u001b[0mclone\u001b[0m\u001b[0;34m(\u001b[0m\u001b[0mv\u001b[0m\u001b[0;34m,\u001b[0m \u001b[0msafe\u001b[0m\u001b[0;34m=\u001b[0m\u001b[0;32mFalse\u001b[0m\u001b[0;34m)\u001b[0m\u001b[0;34m\u001b[0m\u001b[0;34m\u001b[0m\u001b[0m\n\u001b[1;32m    503\u001b[0m \u001b[0;34m\u001b[0m\u001b[0m\n\u001b[0;32m--> 504\u001b[0;31m         \u001b[0mestimator\u001b[0m \u001b[0;34m=\u001b[0m \u001b[0mestimator\u001b[0m\u001b[0;34m.\u001b[0m\u001b[0mset_params\u001b[0m\u001b[0;34m(\u001b[0m\u001b[0;34m**\u001b[0m\u001b[0mcloned_parameters\u001b[0m\u001b[0;34m)\u001b[0m\u001b[0;34m\u001b[0m\u001b[0;34m\u001b[0m\u001b[0m\n\u001b[0m\u001b[1;32m    505\u001b[0m \u001b[0;34m\u001b[0m\u001b[0m\n\u001b[1;32m    506\u001b[0m     \u001b[0mstart_time\u001b[0m \u001b[0;34m=\u001b[0m \u001b[0mtime\u001b[0m\u001b[0;34m.\u001b[0m\u001b[0mtime\u001b[0m\u001b[0;34m(\u001b[0m\u001b[0;34m)\u001b[0m\u001b[0;34m\u001b[0m\u001b[0;34m\u001b[0m\u001b[0m\n",
      "\u001b[0;32m/opt/anaconda3/lib/python3.7/site-packages/sklearn/base.py\u001b[0m in \u001b[0;36mset_params\u001b[0;34m(self, **params)\u001b[0m\n\u001b[1;32m    234\u001b[0m                                  \u001b[0;34m'Check the list of available parameters '\u001b[0m\u001b[0;34m\u001b[0m\u001b[0;34m\u001b[0m\u001b[0m\n\u001b[1;32m    235\u001b[0m                                  \u001b[0;34m'with `estimator.get_params().keys()`.'\u001b[0m \u001b[0;34m%\u001b[0m\u001b[0;34m\u001b[0m\u001b[0;34m\u001b[0m\u001b[0m\n\u001b[0;32m--> 236\u001b[0;31m                                  (key, self))\n\u001b[0m\u001b[1;32m    237\u001b[0m \u001b[0;34m\u001b[0m\u001b[0m\n\u001b[1;32m    238\u001b[0m             \u001b[0;32mif\u001b[0m \u001b[0mdelim\u001b[0m\u001b[0;34m:\u001b[0m\u001b[0;34m\u001b[0m\u001b[0;34m\u001b[0m\u001b[0m\n",
      "\u001b[0;31mValueError\u001b[0m: Invalid parameter n_estimators for estimator KNeighborsClassifier(algorithm='auto', leaf_size=30, metric='minkowski',\n                     metric_params=None, n_jobs=None, n_neighbors=13, p=2,\n                     weights='uniform'). Check the list of available parameters with `estimator.get_params().keys()`."
     ]
    }
   ],
   "source": [
    "# run RandomizedSearchCV 20 times (with n_iter=10) and record the best score\n",
    "best_scores = []\n",
    "for _ in range(20):\n",
    "    rand = RandomizedSearchCV(knn, param_dist, cv=10, scoring='accuracy')\n",
    "    rand.fit(X, y)\n",
    "    best_scores.append(round(rand.best_score_, 3))\n",
    "print(best_scores)"
   ]
  },
  {
   "cell_type": "markdown",
   "metadata": {},
   "source": [
    "### Exercise\n",
    "\n",
    "- Create a RandomizedSearchCV using a RandomForestClassifier \n",
    "- Create a param_grid to test 20 values for n_estimators and 5 values for min_samples_leaf"
   ]
  },
  {
   "cell_type": "code",
   "execution_count": 52,
   "metadata": {},
   "outputs": [
    {
     "data": {
      "text/plain": [
       "{'mean_fit_time': array([0.01060503, 0.00879669, 0.01197941, 0.01699579, 0.00758846,\n",
       "        0.01815212, 0.00140018, 0.02040083, 0.0024368 , 0.01392138]),\n",
       " 'std_fit_time': array([4.39792849e-03, 1.08267712e-04, 4.08331852e-04, 1.85518037e-04,\n",
       "        4.87252043e-05, 3.92676315e-04, 4.54352004e-05, 5.39168032e-04,\n",
       "        4.81204123e-05, 2.24097085e-04]),\n",
       " 'mean_score_time': array([0.00110219, 0.00095952, 0.00116982, 0.00151641, 0.000876  ,\n",
       "        0.00155182, 0.0004456 , 0.00167918, 0.00050099, 0.00125947]),\n",
       " 'std_score_time': array([3.76061736e-04, 5.55964573e-05, 8.96027139e-05, 1.13124581e-04,\n",
       "        6.27646860e-05, 6.96004067e-05, 6.22234124e-05, 3.99259656e-05,\n",
       "        5.05880180e-06, 1.00725572e-05]),\n",
       " 'param_n_estimators': masked_array(data=[7, 8, 11, 16, 7, 17, 1, 19, 2, 13],\n",
       "              mask=[False, False, False, False, False, False, False, False,\n",
       "                    False, False],\n",
       "        fill_value='?',\n",
       "             dtype=object),\n",
       " 'param_min_samples_leaf': masked_array(data=[2, 2, 1, 2, 4, 2, 4, 2, 4, 1],\n",
       "              mask=[False, False, False, False, False, False, False, False,\n",
       "                    False, False],\n",
       "        fill_value='?',\n",
       "             dtype=object),\n",
       " 'params': [{'n_estimators': 7, 'min_samples_leaf': 2},\n",
       "  {'n_estimators': 8, 'min_samples_leaf': 2},\n",
       "  {'n_estimators': 11, 'min_samples_leaf': 1},\n",
       "  {'n_estimators': 16, 'min_samples_leaf': 2},\n",
       "  {'n_estimators': 7, 'min_samples_leaf': 4},\n",
       "  {'n_estimators': 17, 'min_samples_leaf': 2},\n",
       "  {'n_estimators': 1, 'min_samples_leaf': 4},\n",
       "  {'n_estimators': 19, 'min_samples_leaf': 2},\n",
       "  {'n_estimators': 2, 'min_samples_leaf': 4},\n",
       "  {'n_estimators': 13, 'min_samples_leaf': 1}],\n",
       " 'split0_test_score': array([0.93333333, 1.        , 1.        , 1.        , 1.        ,\n",
       "        1.        , 1.        , 1.        , 1.        , 1.        ]),\n",
       " 'split1_test_score': array([0.93333333, 0.93333333, 0.93333333, 0.93333333, 0.93333333,\n",
       "        0.93333333, 0.93333333, 0.93333333, 1.        , 0.93333333]),\n",
       " 'split2_test_score': array([1., 1., 1., 1., 1., 1., 1., 1., 1., 1.]),\n",
       " 'split3_test_score': array([0.93333333, 0.93333333, 0.93333333, 0.93333333, 0.93333333,\n",
       "        0.93333333, 1.        , 0.93333333, 0.93333333, 0.93333333]),\n",
       " 'split4_test_score': array([0.93333333, 0.93333333, 0.93333333, 0.93333333, 0.93333333,\n",
       "        0.93333333, 0.93333333, 0.93333333, 0.93333333, 0.93333333]),\n",
       " 'split5_test_score': array([0.93333333, 0.93333333, 0.86666667, 0.93333333, 0.86666667,\n",
       "        0.93333333, 0.86666667, 0.93333333, 0.93333333, 0.93333333]),\n",
       " 'split6_test_score': array([0.86666667, 0.86666667, 0.93333333, 0.93333333, 0.8       ,\n",
       "        0.86666667, 0.86666667, 0.86666667, 0.93333333, 0.86666667]),\n",
       " 'split7_test_score': array([1.        , 0.93333333, 1.        , 1.        , 1.        ,\n",
       "        1.        , 0.93333333, 1.        , 1.        , 1.        ]),\n",
       " 'split8_test_score': array([1., 1., 1., 1., 1., 1., 1., 1., 1., 1.]),\n",
       " 'split9_test_score': array([1., 1., 1., 1., 1., 1., 1., 1., 1., 1.]),\n",
       " 'mean_test_score': array([0.95333333, 0.95333333, 0.96      , 0.96666667, 0.94666667,\n",
       "        0.96      , 0.95333333, 0.96      , 0.97333333, 0.96      ]),\n",
       " 'std_test_score': array([0.04268749, 0.04268749, 0.04422166, 0.03333333, 0.06531973,\n",
       "        0.04422166, 0.05206833, 0.04422166, 0.03265986, 0.04422166]),\n",
       " 'rank_test_score': array([ 7,  7,  3,  2, 10,  3,  7,  3,  1,  3], dtype=int32),\n",
       " 'split0_train_score': array([0.96296296, 0.97777778, 0.99259259, 0.97777778, 0.94814815,\n",
       "        0.98518519, 0.92592593, 0.97037037, 0.96296296, 1.        ]),\n",
       " 'split1_train_score': array([0.98518519, 0.96296296, 1.        , 0.97777778, 0.97777778,\n",
       "        0.97777778, 0.97777778, 0.98518519, 0.96296296, 1.        ]),\n",
       " 'split2_train_score': array([0.97037037, 0.98518519, 0.99259259, 0.98518519, 0.94814815,\n",
       "        0.97777778, 0.97777778, 0.97037037, 0.94814815, 0.99259259]),\n",
       " 'split3_train_score': array([0.97777778, 0.97777778, 0.99259259, 0.97777778, 0.95555556,\n",
       "        0.97037037, 0.94074074, 0.97777778, 0.96296296, 1.        ]),\n",
       " 'split4_train_score': array([0.97037037, 1.        , 1.        , 0.97777778, 0.98518519,\n",
       "        0.97777778, 0.93333333, 0.98518519, 0.96296296, 1.        ]),\n",
       " 'split5_train_score': array([0.98518519, 0.98518519, 0.99259259, 0.97777778, 0.97777778,\n",
       "        0.98518519, 0.93333333, 0.98518519, 0.95555556, 0.99259259]),\n",
       " 'split6_train_score': array([0.97037037, 0.98518519, 1.        , 0.98518519, 0.97037037,\n",
       "        0.97777778, 0.96296296, 0.97777778, 0.97777778, 1.        ]),\n",
       " 'split7_train_score': array([0.97777778, 0.98518519, 1.        , 0.97777778, 0.97777778,\n",
       "        0.97037037, 0.91111111, 0.97777778, 0.95555556, 1.        ]),\n",
       " 'split8_train_score': array([0.96296296, 0.97777778, 0.99259259, 0.97037037, 0.97037037,\n",
       "        0.96296296, 0.94814815, 0.97037037, 0.97037037, 1.        ]),\n",
       " 'split9_train_score': array([0.97777778, 0.97777778, 0.98518519, 0.98518519, 0.96296296,\n",
       "        0.97037037, 0.94074074, 0.97777778, 0.95555556, 1.        ]),\n",
       " 'mean_train_score': array([0.97407407, 0.98148148, 0.99481481, 0.97925926, 0.96740741,\n",
       "        0.97555556, 0.94518519, 0.97777778, 0.96148148, 0.99851852]),\n",
       " 'std_train_score': array([0.00759033, 0.0089197 , 0.00474305, 0.00444444, 0.01248318,\n",
       "        0.00666667, 0.02074074, 0.00573775, 0.00797802, 0.00296296])}"
      ]
     },
     "execution_count": 52,
     "metadata": {},
     "output_type": "execute_result"
    }
   ],
   "source": [
    "# specify \"parameter distributions\" rather than a \"parameter grid\"\n",
    "rf = RandomForestClassifier()\n",
    "param_dist = dict(n_estimators=range(1,20), min_samples_leaf=range(1,5))\n",
    "\n",
    "# n_iter controls the number of searches\n",
    "rand = RandomizedSearchCV(rf, param_dist, cv=10, scoring='accuracy',\n",
    "                          n_iter=10, random_state=5, return_train_score=True)\n",
    "rand.fit(X, y)\n",
    "rand.cv_results_"
   ]
  },
  {
   "cell_type": "markdown",
   "metadata": {},
   "source": [
    "### Pipeline"
   ]
  },
  {
   "cell_type": "code",
   "execution_count": 54,
   "metadata": {},
   "outputs": [
    {
     "data": {
      "text/plain": [
       "0.9533333333333334"
      ]
     },
     "execution_count": 54,
     "metadata": {},
     "output_type": "execute_result"
    }
   ],
   "source": [
    "# fix the cross-validation process using Pipeline\n",
    "from sklearn.pipeline import make_pipeline\n",
    "from sklearn.preprocessing import StandardScaler\n",
    "\n",
    "pipe = make_pipeline(StandardScaler(), KNeighborsClassifier(n_neighbors=3))\n",
    "cross_val_score(pipe, X, y, cv=5, scoring='accuracy').mean()"
   ]
  },
  {
   "cell_type": "code",
   "execution_count": 55,
   "metadata": {},
   "outputs": [
    {
     "name": "stdout",
     "output_type": "stream",
     "text": [
      "0.9666666666666668\n",
      "{'kneighborsclassifier__n_neighbors': 6, 'standardscaler__with_mean': True}\n"
     ]
    }
   ],
   "source": [
    "# create a pipeline\n",
    "pipe = make_pipeline(StandardScaler(), KNeighborsClassifier(n_neighbors=3))\n",
    "\n",
    "# search for an optimal n_neighbors value using GridSearchCV\n",
    "neighbors_range = list(range(1, 21))\n",
    "mean_options = [True,False]\n",
    "\n",
    "#create a param grid\n",
    "param_grid = dict(standardscaler__with_mean=mean_options, kneighborsclassifier__n_neighbors=neighbors_range)\n",
    "\n",
    "# create a grid search\n",
    "grid = GridSearchCV(pipe, param_grid, cv=5, scoring='accuracy')\n",
    "\n",
    "# fit the grid\n",
    "grid.fit(X, y)\n",
    "\n",
    "# view the best_score_ and best_params_\n",
    "print(grid.best_score_)\n",
    "print(grid.best_params_)"
   ]
  },
  {
   "cell_type": "markdown",
   "metadata": {},
   "source": [
    "### Exercise\n",
    "\n",
    "- creat pipeline with a standardscaler and a randomforestclassifier\n",
    "- add hyperparameters to both steps in the pipeline"
   ]
  },
  {
   "cell_type": "code",
   "execution_count": 56,
   "metadata": {},
   "outputs": [
    {
     "name": "stdout",
     "output_type": "stream",
     "text": [
      "0.9666666666666668\n",
      "{'randomforestclassifier__n_estimators': 3, 'standardscaler__with_mean': False}\n"
     ]
    }
   ],
   "source": [
    "# create a pipeline\n",
    "pipe = make_pipeline(StandardScaler(), RandomForestClassifier())\n",
    "\n",
    "# search for an optimal n_neighbors value using GridSearchCV\n",
    "estimator_range = list(range(1, 21))\n",
    "mean_options = [True,False]\n",
    "\n",
    "#create a param grid\n",
    "param_grid = dict(standardscaler__with_mean=mean_options, randomforestclassifier__n_estimators=estimator_range)\n",
    "\n",
    "# create a grid search\n",
    "grid = GridSearchCV(pipe, param_grid, cv=5, scoring='accuracy')\n",
    "\n",
    "# fit the grid\n",
    "grid.fit(X, y)\n",
    "\n",
    "# view the best_score_ and best_params_\n",
    "print(grid.best_score_)\n",
    "print(grid.best_params_)"
   ]
  },
  {
   "cell_type": "markdown",
   "metadata": {},
   "source": [
    "## Resources\n",
    "\n",
    "- scikit-learn documentation: [Grid search](http://scikit-learn.org/stable/modules/grid_search.html), [GridSearchCV](http://scikit-learn.org/stable/modules/generated/sklearn.grid_search.GridSearchCV.html), [RandomizedSearchCV](http://scikit-learn.org/stable/modules/generated/sklearn.grid_search.RandomizedSearchCV.html)\n",
    "- Timed example: [Comparing randomized search and grid search](http://scikit-learn.org/stable/auto_examples/model_selection/randomized_search.html)\n",
    "- scikit-learn workshop by Andreas Mueller: [Video segment on randomized search](https://youtu.be/0wUF_Ov8b0A?t=17m38s) (3 minutes), [related notebook](https://github.com/amueller/pydata-nyc-advanced-sklearn/blob/master/Chapter%203%20-%20Randomized%20Hyper%20Parameter%20Search.ipynb)\n",
    "- Paper by Yoshua Bengio: [Random Search for Hyper-Parameter Optimization](http://www.jmlr.org/papers/volume13/bergstra12a/bergstra12a.pdf)"
   ]
  },
  {
   "cell_type": "markdown",
   "metadata": {},
   "source": [
    "## Comments or Questions?\n",
    "\n",
    "- Email: <kevin@dataschool.io>\n",
    "- Website: http://dataschool.io\n",
    "- Twitter: [@justmarkham](https://twitter.com/justmarkham)"
   ]
  }
 ],
 "metadata": {
  "kernelspec": {
   "display_name": "Python 3",
   "language": "python",
   "name": "python3"
  },
  "language_info": {
   "codemirror_mode": {
    "name": "ipython",
    "version": 3
   },
   "file_extension": ".py",
   "mimetype": "text/x-python",
   "name": "python",
   "nbconvert_exporter": "python",
   "pygments_lexer": "ipython3",
   "version": "3.7.6"
  }
 },
 "nbformat": 4,
 "nbformat_minor": 1
}
