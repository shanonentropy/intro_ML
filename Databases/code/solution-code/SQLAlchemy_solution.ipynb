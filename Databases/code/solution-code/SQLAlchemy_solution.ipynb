{
 "cells": [
  {
   "cell_type": "markdown",
   "metadata": {},
   "source": [
    "## SQLAlchemy"
   ]
  },
  {
   "cell_type": "code",
   "execution_count": 1,
   "metadata": {},
   "outputs": [],
   "source": [
    "import configparser\n",
    "from configparser import ConfigParser, ExtendedInterpolation"
   ]
  },
  {
   "cell_type": "code",
   "execution_count": 2,
   "metadata": {},
   "outputs": [],
   "source": [
    "# instantiate config parser\n",
    "config = configparser.ConfigParser(interpolation=ExtendedInterpolation())"
   ]
  },
  {
   "cell_type": "code",
   "execution_count": 3,
   "metadata": {},
   "outputs": [
    {
     "data": {
      "text/plain": [
       "['../data/config.ini']"
      ]
     },
     "execution_count": 3,
     "metadata": {},
     "output_type": "execute_result"
    }
   ],
   "source": [
    "# read a config file\n",
    "config.read('../data/config.ini')"
   ]
  },
  {
   "cell_type": "code",
   "execution_count": 4,
   "metadata": {},
   "outputs": [
    {
     "data": {
      "text/plain": [
       "['USER', 'DATABASE']"
      ]
     },
     "execution_count": 4,
     "metadata": {},
     "output_type": "execute_result"
    }
   ],
   "source": [
    "# observe the sections in the config file\n",
    "config.sections()"
   ]
  },
  {
   "cell_type": "code",
   "execution_count": 5,
   "metadata": {},
   "outputs": [],
   "source": [
    "# config uses dict syntax to store values\n",
    "TEST_DB_PATH = config['DATABASE']['TEST_DB_PATH']\n",
    "DB_PATH = config['DATABASE']['DB_PATH']"
   ]
  },
  {
   "cell_type": "code",
   "execution_count": 6,
   "metadata": {},
   "outputs": [
    {
     "data": {
      "text/plain": [
       "'sqlite:///C:\\\\Users\\\\alsherman\\\\Desktop\\\\General_Assembly\\\\ds-dc-30\\\\Lesson18_Databases\\\\code\\\\data\\\\sql\\\\test.db'"
      ]
     },
     "execution_count": 6,
     "metadata": {},
     "output_type": "execute_result"
    }
   ],
   "source": [
    "TEST_DB_PATH"
   ]
  },
  {
   "cell_type": "markdown",
   "metadata": {},
   "source": [
    "SQLAlchemy is the Python SQL toolkit and Object Relational Mapper that gives application developers the full power and flexibility of SQL.\n",
    "\n",
    "It provides a full suite of well known enterprise-level persistence patterns, designed for efficient and high-performing database access, adapted into a simple and Pythonic domain language."
   ]
  },
  {
   "cell_type": "code",
   "execution_count": 7,
   "metadata": {},
   "outputs": [
    {
     "data": {
      "text/html": [
       "<iframe src=http://www.sqlalchemy.org/ width=1100 height=300></iframe>"
      ],
      "text/plain": [
       "<IPython.core.display.HTML object>"
      ]
     },
     "execution_count": 7,
     "metadata": {},
     "output_type": "execute_result"
    }
   ],
   "source": [
    "from IPython.core.display import display, HTML\n",
    "\n",
    "sqlalchemy_url = 'http://www.sqlalchemy.org/'\n",
    "iframe = '<iframe src={} width=1100 height=300></iframe>'.format(sqlalchemy_url)\n",
    "HTML(iframe)"
   ]
  },
  {
   "cell_type": "markdown",
   "metadata": {},
   "source": [
    "Python's SQLAlchemy and Object-Relational Mapping\n",
    "\n",
    "A common task when programming any web service is the construction of a solid database backend. In the past, programmers would write raw SQL statements, pass them to the database engine and parse the returned results as a normal array of records. Nowadays, programmers can write Object-relational mapping (ORM) programs to remove the necessity of writing tedious and error-prone raw SQL statements that are inflexible and hard-to-maintain.\n",
    "\n",
    "ORM is a programming technique for converting data between incompatible type systems in object-oriented programming languages. Usually, the type system used in an OO language such as Python contains types that are non-scalar, namely that those types cannot be expressed as primitive types such as integers and strings\n",
    "\n",
    "- Source: http://pythoncentral.io/introductory-tutorial-python-sqlalchemy/\n",
    "- Source: https://www.pythonsheets.com/notes/python-sqlalchemy.html"
   ]
  },
  {
   "cell_type": "code",
   "execution_count": 8,
   "metadata": {},
   "outputs": [
    {
     "data": {
      "text/html": [
       "<iframe src=http://docs.sqlalchemy.org/en/latest/orm/tutorial.html width=1100 height=300></iframe>"
      ],
      "text/plain": [
       "<IPython.core.display.HTML object>"
      ]
     },
     "execution_count": 8,
     "metadata": {},
     "output_type": "execute_result"
    }
   ],
   "source": [
    "tutorial_url = 'http://docs.sqlalchemy.org/en/latest/orm/tutorial.html'\n",
    "iframe = '<iframe src={} width=1100 height=300></iframe>'.format(tutorial_url)\n",
    "HTML(iframe)"
   ]
  },
  {
   "cell_type": "code",
   "execution_count": 9,
   "metadata": {},
   "outputs": [],
   "source": [
    "from sqlalchemy.ext.declarative import declarative_base\n",
    "\n",
    "Base = declarative_base()"
   ]
  },
  {
   "cell_type": "markdown",
   "metadata": {},
   "source": [
    "#### Declarative Base\n",
    "Declarative base maintains a catalog of classes and tables. It keeps track of all the database tables that are accessible through SQLAlchemy."
   ]
  },
  {
   "cell_type": "code",
   "execution_count": 10,
   "metadata": {},
   "outputs": [],
   "source": [
    "from sqlalchemy import Column, Text, Integer"
   ]
  },
  {
   "cell_type": "markdown",
   "metadata": {},
   "source": [
    "#### SQLAlchemy column and data types\n",
    "Each database field is provided a column and data type in SQLAlchemy\n",
    "\n",
    "- Column: specifies a column that can read, write and store a particular type of Python data.  \n",
    "- Text: In SQL, usually corresponds to CLOB or TEXT\n",
    "- Integer: integer Data type"
   ]
  },
  {
   "cell_type": "code",
   "execution_count": 11,
   "metadata": {},
   "outputs": [],
   "source": [
    "# provide a class name for the database table\n",
    "class Sections(Base):\n",
    "    # provide a name used in SQL to query the table\n",
    "    __tablename__ = 'SECTIONS'\n",
    "\n",
    "    # provide column names and data types\n",
    "    # for each field in the database\n",
    "    # additional paramater are available for the columns\n",
    "    # and data types\n",
    "    section_id = Column(Integer(), primary_key=True, autoincrement=True)\n",
    "    section_name = Column(Text())\n",
    "    section_text = Column(Text())\n",
    "\n",
    "    def __repr__(self):\n",
    "        return '<Sections section_id: {} | section_name: {}>'.format(\n",
    "            self.section_id, self.section_name)"
   ]
  },
  {
   "cell_type": "markdown",
   "metadata": {},
   "source": [
    "#### SQLAlchemy Classes\n",
    "\n",
    "Each SQLAlchemy class corresponds to a database table.\n",
    "\n",
    "Within the class, we define details about the table to which we’ll be mapping, primarily the table name, and names and datatypes of columns.\n",
    "\n",
    "A class using Declarative at a minimum needs a __tablename__ attribute, and at least one Column which is part of a primary key. \n",
    "\n",
    "Outside of what the mapping process does to our class, the class remains otherwise mostly a normal Python class, to which we can define any number of ordinary attributes and methods needed by our application."
   ]
  },
  {
   "cell_type": "code",
   "execution_count": 12,
   "metadata": {},
   "outputs": [
    {
     "data": {
      "text/plain": [
       "<Sections section_id: None | section_name: None>"
      ]
     },
     "execution_count": 12,
     "metadata": {},
     "output_type": "execute_result"
    }
   ],
   "source": [
    "sections = Sections()\n",
    "sections"
   ]
  },
  {
   "cell_type": "markdown",
   "metadata": {},
   "source": [
    "**_ _repr_ _** (represent) provides the output when using print. This explains why the output is sometimes different when using print  "
   ]
  },
  {
   "cell_type": "code",
   "execution_count": 13,
   "metadata": {},
   "outputs": [
    {
     "name": "stdout",
     "output_type": "stream",
     "text": [
      "<zip object at 0x0000019F89683E48>\n"
     ]
    },
    {
     "data": {
      "text/plain": [
       "<zip at 0x19f89683e48>"
      ]
     },
     "execution_count": 13,
     "metadata": {},
     "output_type": "execute_result"
    }
   ],
   "source": [
    "list_one = ['a','b','c']\n",
    "list_two = [1,2,3]\n",
    "\n",
    "print(zip(list_one, list_two))\n",
    "zip(list_one, list_two)"
   ]
  },
  {
   "cell_type": "code",
   "execution_count": 14,
   "metadata": {},
   "outputs": [
    {
     "data": {
      "text/plain": [
       "'sqlite:///C:\\\\Users\\\\alsherman\\\\Desktop\\\\General_Assembly\\\\ds-dc-30\\\\Lesson18_Databases\\\\code\\\\data\\\\sql\\\\test.db'"
      ]
     },
     "execution_count": 14,
     "metadata": {},
     "output_type": "execute_result"
    }
   ],
   "source": [
    "# confirm test database directory\n",
    "TEST_DB_PATH"
   ]
  },
  {
   "cell_type": "markdown",
   "metadata": {},
   "source": [
    "#### Below are common urls to connect to a variery of databases\n",
    "\n",
    "SQLAlchemy includes dialects for common databases, including Microsoft SQL Server, MySQL, Oracle, PostgreSQL, SQLite, and more. Additional external dialects are available for other databases like Amazon Redshift.\n"
   ]
  },
  {
   "cell_type": "code",
   "execution_count": 15,
   "metadata": {},
   "outputs": [
    {
     "data": {
      "text/html": [
       "<iframe src=http://docs.sqlalchemy.org/en/latest/core/engines.html width=1100 height=300></iframe>"
      ],
      "text/plain": [
       "<IPython.core.display.HTML object>"
      ]
     },
     "execution_count": 15,
     "metadata": {},
     "output_type": "execute_result"
    }
   ],
   "source": [
    "database_url = 'http://docs.sqlalchemy.org/en/latest/core/engines.html'\n",
    "iframe = '<iframe src={} width=1100 height=300></iframe>'.format(database_url)\n",
    "HTML(iframe)"
   ]
  },
  {
   "cell_type": "code",
   "execution_count": 16,
   "metadata": {},
   "outputs": [],
   "source": [
    "from sqlalchemy import create_engine\n",
    "\n",
    "# create database tables\n",
    "engine = create_engine(TEST_DB_PATH)\n",
    "Base.metadata.create_all(engine)"
   ]
  },
  {
   "cell_type": "markdown",
   "metadata": {},
   "source": [
    "In this tutorial we use a SQLite database. To connect we use create_engine()\n",
    "\n",
    "#### Create Engine\n",
    "The return value of create_engine() is an instance of Engine, and it represents the core interface to the database.\n",
    "\n",
    "#### Lazy Connecting\n",
    "The Engine, when first returned by create_engine(), has not actually tried to connect to the database yet; that happens only the first time it is asked to perform a task against the database\n",
    "\n",
    "#### Base.metaData.create_all()\n",
    "As our SQLite database does not yet have a Sections table present, we can issue a CREATE TABLE statements to the database.\n",
    "\n",
    "Base.metaData.create_all(), passing in our Engine as a source of database connectivity. We will see that special commands are first emitted to check for the presence of the users table, and following that the actual CREATE TABLE statement"
   ]
  },
  {
   "cell_type": "code",
   "execution_count": 17,
   "metadata": {},
   "outputs": [],
   "source": [
    "from sqlalchemy.orm import sessionmaker\n",
    "\n",
    "engine = create_engine(TEST_DB_PATH)\n",
    "Session = sessionmaker(bind=engine)\n",
    "session = Session()"
   ]
  },
  {
   "cell_type": "markdown",
   "metadata": {},
   "source": [
    "#### SQLAlchemy Session\n",
    "\n",
    "In the most general sense, the Session establishes all conversations with the database and represents a “holding zone” for all the objects which you’ve loaded or associated with it during its lifespan. It provides the entrypoint to acquire a Query object, which sends queries to the database using the Session object’s current database connection, populating result rows into objects that are then stored in the Session\n",
    "\n",
    "All changes to objects maintained by a Session are tracked - before the database is queried again or before the current transaction is committed, it flushes all pending changes to the database. This is known as the Unit of Work pattern."
   ]
  },
  {
   "cell_type": "markdown",
   "metadata": {},
   "source": [
    "#### Insert data into the database"
   ]
  },
  {
   "cell_type": "code",
   "execution_count": 18,
   "metadata": {},
   "outputs": [],
   "source": [
    "section = Sections(\n",
    "      section_name = 'first section'\n",
    "    , section_text = 'text from the first section'\n",
    ")\n",
    "\n",
    "session.add(section)"
   ]
  },
  {
   "cell_type": "markdown",
   "metadata": {},
   "source": [
    "At this point, we say that the instance is pending; no SQL has yet been issued and the object is not yet represented by a row in the database. \n",
    "\n",
    "The Session will issue the SQL to persist the section as soon as is needed, using a process known as a flush. If we query the database for the section, all pending information will first be flushed, and the query is issued immediately thereafter."
   ]
  },
  {
   "cell_type": "code",
   "execution_count": 19,
   "metadata": {},
   "outputs": [],
   "source": [
    "# commit (save) all annual reports to the database\n",
    "session.commit()"
   ]
  },
  {
   "cell_type": "markdown",
   "metadata": {},
   "source": [
    "#### Commit\n",
    "\n",
    "We tell the Session that we’d like to issue all remaining changes to the database and commit the transaction, which has been in progress throughout. We do this via commit().\n",
    "\n",
    "commit() flushes the remaining changes to the database, and commits the transaction. The connection resources referenced by the session are now returned to the connection pool. Subsequent operations with this session will occur in a new transaction, which will again re-acquire connection resources when first needed."
   ]
  },
  {
   "cell_type": "code",
   "execution_count": 20,
   "metadata": {},
   "outputs": [
    {
     "name": "stdout",
     "output_type": "stream",
     "text": [
      "section_id: 1\n",
      "section_name: first section\n",
      "section_text: text from the first section\n"
     ]
    }
   ],
   "source": [
    "# query database to check if data was added\n",
    "result = session.query(Sections).all()\n",
    "for row in result:\n",
    "    print('section_id: {}'.format(row.section_id))\n",
    "    print('section_name: {}'.format(row.section_name))\n",
    "    print('section_text: {}'.format(row.section_text))"
   ]
  },
  {
   "cell_type": "code",
   "execution_count": 21,
   "metadata": {},
   "outputs": [
    {
     "data": {
      "text/plain": [
       "[<Sections section_id: 1 | section_name: first section>]"
      ]
     },
     "execution_count": 21,
     "metadata": {},
     "output_type": "execute_result"
    }
   ],
   "source": [
    "# view the __repr__ of the SQLAlchemy class\n",
    "result"
   ]
  },
  {
   "cell_type": "code",
   "execution_count": 22,
   "metadata": {},
   "outputs": [],
   "source": [
    "# Delete data from Sections to reset table (optional)\n",
    "session.execute(\"DELETE FROM Sections\")\n",
    "session.commit()"
   ]
  },
  {
   "cell_type": "markdown",
   "metadata": {},
   "source": [
    "## Exercise\n",
    "\n",
    "Create and query a data containing StackOverflow questions data.\n",
    "\n",
    "The questions are randomized and contains a mix of verbose text sites as well as sites related to math and programming. The number of questions from each site may vary, and no filtering has been performed on the questions (such as closed questions).\n",
    "\n",
    "#### Data Dictionary:\n",
    "- Id - Unique identifier for each question\n",
    "- Title - The question's title\n",
    "- Body - The body of the question\n",
    "- Tags - The tags associated with the question (all lowercase, should not contain tabs '\\t' or ampersands '&')\n",
    "\n",
    "Source: https://www.kaggle.com/c/facebook-recruiting-iii-keyword-extraction"
   ]
  },
  {
   "cell_type": "markdown",
   "metadata": {},
   "source": [
    "### Create a table named StackOverflow with the following columns and data types\n",
    "- tablename = 'STACKOVERFLOW'\n",
    "- Id - Integer, primary_key\n",
    "- Title - Text, nullble\n",
    "- Body - Text, nullable\n",
    "- Tags - Text, nullable\n",
    "- Add a __repr__ that prints out the Id and Title"
   ]
  },
  {
   "cell_type": "code",
   "execution_count": 23,
   "metadata": {},
   "outputs": [],
   "source": [
    "class StackOverflow(Base):\n",
    "    __tablename__ = 'STACKOVERFLOW'\n",
    "\n",
    "    Id = Column(Integer(), nullable=False, primary_key=True)\n",
    "    Title = Column(Text(), nullable=True)\n",
    "    Body = Column(Text(), nullable=True)\n",
    "    Tags = Column(Text(), nullable=True) \n",
    "    \n",
    "    def __repr__(self):\n",
    "        return '<StackOverflow Id: {} | Title: {}>'.format(\n",
    "            self.Id, self.Title)"
   ]
  },
  {
   "cell_type": "code",
   "execution_count": 24,
   "metadata": {},
   "outputs": [
    {
     "data": {
      "text/plain": [
       "'sqlite:///C:\\\\Users\\\\alsherman\\\\Desktop\\\\General_Assembly\\\\ds-dc-30\\\\Lesson18_Databases\\\\code\\\\data\\\\sql\\\\stackoverflow.sqlite'"
      ]
     },
     "execution_count": 24,
     "metadata": {},
     "output_type": "execute_result"
    }
   ],
   "source": [
    "# confirm the path to the stackoverflow database\n",
    "DB_PATH"
   ]
  },
  {
   "cell_type": "code",
   "execution_count": 25,
   "metadata": {},
   "outputs": [],
   "source": [
    "# create a engine session to connect to the database \n",
    "from sqlalchemy.orm import sessionmaker\n",
    "\n",
    "engine = create_engine(DB_PATH)\n",
    "Session = sessionmaker(bind=engine)\n",
    "session = Session()"
   ]
  },
  {
   "cell_type": "markdown",
   "metadata": {},
   "source": [
    "# SQL"
   ]
  },
  {
   "cell_type": "code",
   "execution_count": 27,
   "metadata": {},
   "outputs": [
    {
     "data": {
      "text/html": [
       "<iframe src=http://docs.sqlalchemy.org/en/latest/orm/tutorial.html width=1100 height=300></iframe>"
      ],
      "text/plain": [
       "<IPython.core.display.HTML object>"
      ]
     },
     "execution_count": 27,
     "metadata": {},
     "output_type": "execute_result"
    }
   ],
   "source": [
    "database_url = 'http://docs.sqlalchemy.org/en/latest/orm/tutorial.html'\n",
    "iframe = '<iframe src={} width=1100 height=300></iframe>'.format(database_url)\n",
    "HTML(iframe)"
   ]
  },
  {
   "cell_type": "code",
   "execution_count": 28,
   "metadata": {},
   "outputs": [
    {
     "name": "stdout",
     "output_type": "stream",
     "text": [
      "Question Id: 1\n",
      "TITLE: How to check if an uploaded file is an image without mime type?\n",
      "TAGS: php image-processing file-upload upload mime-types \n",
      "\n",
      "Question Id: 2\n",
      "TITLE: How can I prevent firefox from closing when I press ctrl-w\n",
      "TAGS: firefox \n",
      "\n",
      "Question Id: 3\n",
      "TITLE: R Error Invalid type (list) for variable\n",
      "TAGS: r matlab machine-learning \n",
      "\n"
     ]
    }
   ],
   "source": [
    "# SQLAlchemy ORM\n",
    "for result in session.query(StackOverflow)[0:3]:\n",
    "    print('Question Id: {}'.format(result.Id))\n",
    "    print('TITLE: {}'.format(result.Title))\n",
    "    print('TAGS: {} \\n'.format(result.Tags))"
   ]
  },
  {
   "cell_type": "code",
   "execution_count": 29,
   "metadata": {},
   "outputs": [
    {
     "name": "stdout",
     "output_type": "stream",
     "text": [
      "Question Id: 1\n",
      "TITLE: How to check if an uploaded file is an image without mime type?\n",
      "TAGS: php image-processing file-upload upload mime-types \n",
      "\n",
      "Question Id: 2\n",
      "TITLE: How can I prevent firefox from closing when I press ctrl-w\n",
      "TAGS: firefox \n",
      "\n",
      "Question Id: 3\n",
      "TITLE: R Error Invalid type (list) for variable\n",
      "TAGS: r matlab machine-learning \n",
      "\n"
     ]
    }
   ],
   "source": [
    "# SQLAlchamy Core - SQL Expression Language\n",
    "from sqlalchemy.sql import text\n",
    "\n",
    "query = text('SELECT * FROM StackOverflow LIMIT 3')\n",
    "for result in session.execute(query):\n",
    "    print('Question Id: {}'.format(result.Id))\n",
    "    print('TITLE: {}'.format(result.Title))\n",
    "    print('TAGS: {} \\n'.format(result.Tags))"
   ]
  },
  {
   "cell_type": "code",
   "execution_count": 30,
   "metadata": {},
   "outputs": [
    {
     "data": {
      "text/html": [
       "<div>\n",
       "<style scoped>\n",
       "    .dataframe tbody tr th:only-of-type {\n",
       "        vertical-align: middle;\n",
       "    }\n",
       "\n",
       "    .dataframe tbody tr th {\n",
       "        vertical-align: top;\n",
       "    }\n",
       "\n",
       "    .dataframe thead th {\n",
       "        text-align: right;\n",
       "    }\n",
       "</style>\n",
       "<table border=\"1\" class=\"dataframe\">\n",
       "  <thead>\n",
       "    <tr style=\"text-align: right;\">\n",
       "      <th></th>\n",
       "      <th>index</th>\n",
       "      <th>Id</th>\n",
       "      <th>Title</th>\n",
       "      <th>Body</th>\n",
       "      <th>Tags</th>\n",
       "    </tr>\n",
       "  </thead>\n",
       "  <tbody>\n",
       "    <tr>\n",
       "      <th>0</th>\n",
       "      <td>0</td>\n",
       "      <td>1</td>\n",
       "      <td>How to check if an uploaded file is an image w...</td>\n",
       "      <td>&lt;p&gt;I'd like to check if an uploaded file is an...</td>\n",
       "      <td>php image-processing file-upload upload mime-t...</td>\n",
       "    </tr>\n",
       "    <tr>\n",
       "      <th>1</th>\n",
       "      <td>1</td>\n",
       "      <td>2</td>\n",
       "      <td>How can I prevent firefox from closing when I ...</td>\n",
       "      <td>&lt;p&gt;In my favorite editor (vim), I regularly us...</td>\n",
       "      <td>firefox</td>\n",
       "    </tr>\n",
       "    <tr>\n",
       "      <th>2</th>\n",
       "      <td>2</td>\n",
       "      <td>3</td>\n",
       "      <td>R Error Invalid type (list) for variable</td>\n",
       "      <td>&lt;p&gt;I am import matlab file and construct a dat...</td>\n",
       "      <td>r matlab machine-learning</td>\n",
       "    </tr>\n",
       "  </tbody>\n",
       "</table>\n",
       "</div>"
      ],
      "text/plain": [
       "   index  Id                                              Title  \\\n",
       "0      0   1  How to check if an uploaded file is an image w...   \n",
       "1      1   2  How can I prevent firefox from closing when I ...   \n",
       "2      2   3           R Error Invalid type (list) for variable   \n",
       "\n",
       "                                                Body  \\\n",
       "0  <p>I'd like to check if an uploaded file is an...   \n",
       "1  <p>In my favorite editor (vim), I regularly us...   \n",
       "2  <p>I am import matlab file and construct a dat...   \n",
       "\n",
       "                                                Tags  \n",
       "0  php image-processing file-upload upload mime-t...  \n",
       "1                                            firefox  \n",
       "2                          r matlab machine-learning  "
      ]
     },
     "execution_count": 30,
     "metadata": {},
     "output_type": "execute_result"
    }
   ],
   "source": [
    "# Pandas\n",
    "import pandas as pd\n",
    "pd.read_sql('SELECT * FROM STACKOVERFLOW LIMIT 3', con=engine)"
   ]
  },
  {
   "cell_type": "markdown",
   "metadata": {},
   "source": [
    "### SELECT"
   ]
  },
  {
   "cell_type": "code",
   "execution_count": 31,
   "metadata": {},
   "outputs": [
    {
     "data": {
      "text/plain": [
       "[(1, 'php image-processing file-upload upload mime-types'),\n",
       " (2, 'firefox'),\n",
       " (3, 'r matlab machine-learning')]"
      ]
     },
     "execution_count": 31,
     "metadata": {},
     "output_type": "execute_result"
    }
   ],
   "source": [
    "# SQLAlchemy ORM\n",
    "session.query(StackOverflow.Id, StackOverflow.Tags).limit(3).all()"
   ]
  },
  {
   "cell_type": "code",
   "execution_count": 32,
   "metadata": {},
   "outputs": [
    {
     "name": "stdout",
     "output_type": "stream",
     "text": [
      "SELECT \"STACKOVERFLOW\".\"Id\" AS \"STACKOVERFLOW_Id\", \"STACKOVERFLOW\".\"Tags\" AS \"STACKOVERFLOW_Tags\" \n",
      "FROM \"STACKOVERFLOW\"\n",
      " LIMIT ? OFFSET ?\n"
     ]
    }
   ],
   "source": [
    "# Raw SQL Query\n",
    "print(session.query(StackOverflow.Id, StackOverflow.Tags).limit(3))"
   ]
  },
  {
   "cell_type": "code",
   "execution_count": 33,
   "metadata": {},
   "outputs": [
    {
     "data": {
      "text/plain": [
       "[(1, 'php image-processing file-upload upload mime-types'),\n",
       " (2, 'firefox'),\n",
       " (3, 'r matlab machine-learning')]"
      ]
     },
     "execution_count": 33,
     "metadata": {},
     "output_type": "execute_result"
    }
   ],
   "source": [
    "# SQLAlchamy Core - SQL Expression Language\n",
    "query = text('SELECT Id, Tags FROM StackOverflow LIMIT 3')\n",
    "session.execute(query).fetchall()"
   ]
  },
  {
   "cell_type": "code",
   "execution_count": 34,
   "metadata": {},
   "outputs": [
    {
     "data": {
      "text/html": [
       "<div>\n",
       "<style scoped>\n",
       "    .dataframe tbody tr th:only-of-type {\n",
       "        vertical-align: middle;\n",
       "    }\n",
       "\n",
       "    .dataframe tbody tr th {\n",
       "        vertical-align: top;\n",
       "    }\n",
       "\n",
       "    .dataframe thead th {\n",
       "        text-align: right;\n",
       "    }\n",
       "</style>\n",
       "<table border=\"1\" class=\"dataframe\">\n",
       "  <thead>\n",
       "    <tr style=\"text-align: right;\">\n",
       "      <th></th>\n",
       "      <th>Id</th>\n",
       "      <th>Tags</th>\n",
       "    </tr>\n",
       "  </thead>\n",
       "  <tbody>\n",
       "    <tr>\n",
       "      <th>0</th>\n",
       "      <td>1</td>\n",
       "      <td>php image-processing file-upload upload mime-t...</td>\n",
       "    </tr>\n",
       "    <tr>\n",
       "      <th>1</th>\n",
       "      <td>2</td>\n",
       "      <td>firefox</td>\n",
       "    </tr>\n",
       "    <tr>\n",
       "      <th>2</th>\n",
       "      <td>3</td>\n",
       "      <td>r matlab machine-learning</td>\n",
       "    </tr>\n",
       "  </tbody>\n",
       "</table>\n",
       "</div>"
      ],
      "text/plain": [
       "   Id                                               Tags\n",
       "0   1  php image-processing file-upload upload mime-t...\n",
       "1   2                                            firefox\n",
       "2   3                          r matlab machine-learning"
      ]
     },
     "execution_count": 34,
     "metadata": {},
     "output_type": "execute_result"
    }
   ],
   "source": [
    "#Pandas \n",
    "pd.read_sql('SELECT Id, Tags FROM STACKOVERFLOW LIMIT 3', con=engine)"
   ]
  },
  {
   "cell_type": "markdown",
   "metadata": {},
   "source": [
    "### WHERE"
   ]
  },
  {
   "cell_type": "code",
   "execution_count": 35,
   "metadata": {},
   "outputs": [
    {
     "data": {
      "text/plain": [
       "[(206, 'Splitting a list'),\n",
       " (990, 'Split based by a-z character in an alphanumeric string in python'),\n",
       " (1194, 'How to : Python Convert Bytes to Readable ASCII/Unicode')]"
      ]
     },
     "execution_count": 35,
     "metadata": {},
     "output_type": "execute_result"
    }
   ],
   "source": [
    "# SQLAlchemy ORM\n",
    "session.query(StackOverflow.Id, StackOverflow.Title\n",
    "    ).filter(StackOverflow.Tags == 'python').limit(3).all()"
   ]
  },
  {
   "cell_type": "code",
   "execution_count": 36,
   "metadata": {},
   "outputs": [
    {
     "name": "stdout",
     "output_type": "stream",
     "text": [
      "SELECT \"STACKOVERFLOW\".\"Id\" AS \"STACKOVERFLOW_Id\", \"STACKOVERFLOW\".\"Title\" AS \"STACKOVERFLOW_Title\" \n",
      "FROM \"STACKOVERFLOW\" \n",
      "WHERE \"STACKOVERFLOW\".\"Tags\" = ?\n",
      " LIMIT ? OFFSET ?\n"
     ]
    }
   ],
   "source": [
    "# Raw SQL Query\n",
    "print(session.query(StackOverflow.Id, StackOverflow.Title\n",
    "    ).filter(StackOverflow.Tags == 'python').limit(3))"
   ]
  },
  {
   "cell_type": "code",
   "execution_count": 37,
   "metadata": {},
   "outputs": [
    {
     "data": {
      "text/plain": [
       "[(206, 'python', 'Splitting a list'),\n",
       " (990, 'python', 'Split based by a-z character in an alphanumeric string in python'),\n",
       " (1194, 'python', 'How to : Python Convert Bytes to Readable ASCII/Unicode')]"
      ]
     },
     "execution_count": 37,
     "metadata": {},
     "output_type": "execute_result"
    }
   ],
   "source": [
    "# SQLAlchamy Core - SQL Expression Language\n",
    "query = text('SELECT Id, Tags, Title FROM STACKOVERFLOW WHERE Tags = \"python\" LIMIT 3')\n",
    "session.execute(query).fetchall()"
   ]
  },
  {
   "cell_type": "code",
   "execution_count": 38,
   "metadata": {},
   "outputs": [
    {
     "data": {
      "text/html": [
       "<div>\n",
       "<style scoped>\n",
       "    .dataframe tbody tr th:only-of-type {\n",
       "        vertical-align: middle;\n",
       "    }\n",
       "\n",
       "    .dataframe tbody tr th {\n",
       "        vertical-align: top;\n",
       "    }\n",
       "\n",
       "    .dataframe thead th {\n",
       "        text-align: right;\n",
       "    }\n",
       "</style>\n",
       "<table border=\"1\" class=\"dataframe\">\n",
       "  <thead>\n",
       "    <tr style=\"text-align: right;\">\n",
       "      <th></th>\n",
       "      <th>Id</th>\n",
       "      <th>Tags</th>\n",
       "      <th>Title</th>\n",
       "    </tr>\n",
       "  </thead>\n",
       "  <tbody>\n",
       "    <tr>\n",
       "      <th>0</th>\n",
       "      <td>206</td>\n",
       "      <td>python</td>\n",
       "      <td>Splitting a list</td>\n",
       "    </tr>\n",
       "    <tr>\n",
       "      <th>1</th>\n",
       "      <td>990</td>\n",
       "      <td>python</td>\n",
       "      <td>Split based by a-z character in an alphanumeri...</td>\n",
       "    </tr>\n",
       "    <tr>\n",
       "      <th>2</th>\n",
       "      <td>1194</td>\n",
       "      <td>python</td>\n",
       "      <td>How to : Python Convert Bytes to Readable ASCI...</td>\n",
       "    </tr>\n",
       "  </tbody>\n",
       "</table>\n",
       "</div>"
      ],
      "text/plain": [
       "     Id    Tags                                              Title\n",
       "0   206  python                                   Splitting a list\n",
       "1   990  python  Split based by a-z character in an alphanumeri...\n",
       "2  1194  python  How to : Python Convert Bytes to Readable ASCI..."
      ]
     },
     "execution_count": 38,
     "metadata": {},
     "output_type": "execute_result"
    }
   ],
   "source": [
    "# Pandas\n",
    "pd.read_sql('SELECT Id, Tags, Title FROM STACKOVERFLOW WHERE Tags = \"python\" LIMIT 3', con=engine)"
   ]
  },
  {
   "cell_type": "markdown",
   "metadata": {},
   "source": [
    "### LIKE"
   ]
  },
  {
   "cell_type": "code",
   "execution_count": 39,
   "metadata": {},
   "outputs": [
    {
     "data": {
      "text/plain": [
       "[('c# java c++ python strong-typing'),\n",
       " ('python encryption'),\n",
       " ('c++ python swig')]"
      ]
     },
     "execution_count": 39,
     "metadata": {},
     "output_type": "execute_result"
    }
   ],
   "source": [
    "# SQLAlchemy ORM\n",
    "session.query(StackOverflow.Tags\n",
    "    ).filter(StackOverflow.Tags.like('%python%')).limit(3).all()"
   ]
  },
  {
   "cell_type": "code",
   "execution_count": 40,
   "metadata": {},
   "outputs": [
    {
     "name": "stdout",
     "output_type": "stream",
     "text": [
      "SELECT \"STACKOVERFLOW\".\"Tags\" AS \"STACKOVERFLOW_Tags\" \n",
      "FROM \"STACKOVERFLOW\" \n",
      "WHERE \"STACKOVERFLOW\".\"Tags\" LIKE ?\n",
      " LIMIT ? OFFSET ?\n"
     ]
    }
   ],
   "source": [
    "# Raw SQL Query\n",
    "print(session.query(StackOverflow.Tags\n",
    "    ).filter(StackOverflow.Tags.like('%python%')).limit(3))"
   ]
  },
  {
   "cell_type": "code",
   "execution_count": 41,
   "metadata": {},
   "outputs": [
    {
     "data": {
      "text/plain": [
       "[('c# java c++ python strong-typing',),\n",
       " ('python encryption',),\n",
       " ('c++ python swig',)]"
      ]
     },
     "execution_count": 41,
     "metadata": {},
     "output_type": "execute_result"
    }
   ],
   "source": [
    "# SQLAlchamy Core - SQL Expression Language\n",
    "query = text('SELECT Tags FROM STACKOVERFLOW WHERE Tags LIKE \"%python%\" LIMIT 3')\n",
    "session.execute(query).fetchall()"
   ]
  },
  {
   "cell_type": "code",
   "execution_count": 42,
   "metadata": {},
   "outputs": [
    {
     "data": {
      "text/html": [
       "<div>\n",
       "<style scoped>\n",
       "    .dataframe tbody tr th:only-of-type {\n",
       "        vertical-align: middle;\n",
       "    }\n",
       "\n",
       "    .dataframe tbody tr th {\n",
       "        vertical-align: top;\n",
       "    }\n",
       "\n",
       "    .dataframe thead th {\n",
       "        text-align: right;\n",
       "    }\n",
       "</style>\n",
       "<table border=\"1\" class=\"dataframe\">\n",
       "  <thead>\n",
       "    <tr style=\"text-align: right;\">\n",
       "      <th></th>\n",
       "      <th>Tags</th>\n",
       "    </tr>\n",
       "  </thead>\n",
       "  <tbody>\n",
       "    <tr>\n",
       "      <th>0</th>\n",
       "      <td>c# java c++ python strong-typing</td>\n",
       "    </tr>\n",
       "    <tr>\n",
       "      <th>1</th>\n",
       "      <td>python encryption</td>\n",
       "    </tr>\n",
       "    <tr>\n",
       "      <th>2</th>\n",
       "      <td>c++ python swig</td>\n",
       "    </tr>\n",
       "  </tbody>\n",
       "</table>\n",
       "</div>"
      ],
      "text/plain": [
       "                               Tags\n",
       "0  c# java c++ python strong-typing\n",
       "1                 python encryption\n",
       "2                   c++ python swig"
      ]
     },
     "execution_count": 42,
     "metadata": {},
     "output_type": "execute_result"
    }
   ],
   "source": [
    "# Pandas\n",
    "pd.read_sql('SELECT Tags FROM STACKOVERFLOW WHERE Tags LIKE \"%python%\" LIMIT 3', con=engine)"
   ]
  },
  {
   "cell_type": "markdown",
   "metadata": {},
   "source": [
    "### IN"
   ]
  },
  {
   "cell_type": "code",
   "execution_count": 43,
   "metadata": {},
   "outputs": [
    {
     "data": {
      "text/plain": [
       "('Splitting a list')"
      ]
     },
     "execution_count": 43,
     "metadata": {},
     "output_type": "execute_result"
    }
   ],
   "source": [
    "# SQLAlchemy ORM\n",
    "tags = ['python', 'java', 'sql']\n",
    "session.query(StackOverflow.Title\n",
    "    ).filter(StackOverflow.Tags.in_(tags)).limit(3).first()"
   ]
  },
  {
   "cell_type": "code",
   "execution_count": 44,
   "metadata": {},
   "outputs": [
    {
     "name": "stdout",
     "output_type": "stream",
     "text": [
      "SELECT \"STACKOVERFLOW\".\"Title\" AS \"STACKOVERFLOW_Title\" \n",
      "FROM \"STACKOVERFLOW\" \n",
      "WHERE \"STACKOVERFLOW\".\"Tags\" IN (?, ?, ?)\n",
      " LIMIT ? OFFSET ?\n"
     ]
    }
   ],
   "source": [
    "# Raw SQL Query\n",
    "print(session.query(StackOverflow.Title\n",
    "    ).filter(StackOverflow.Tags.in_(['python', 'java', 'sql'])).limit(3))"
   ]
  },
  {
   "cell_type": "code",
   "execution_count": 45,
   "metadata": {},
   "outputs": [
    {
     "data": {
      "text/plain": [
       "[('Splitting a list',),\n",
       " ('java.util.UUID.fromString not checking length',),\n",
       " ('Split based by a-z character in an alphanumeric string in python',)]"
      ]
     },
     "execution_count": 45,
     "metadata": {},
     "output_type": "execute_result"
    }
   ],
   "source": [
    "# SQLAlchamy Core - SQL Expression Language\n",
    "query = text('SELECT Title FROM STACKOVERFLOW WHERE Tags IN (\"python\",\"java\",\"sql\") LIMIT 3')\n",
    "session.execute(query).fetchall()"
   ]
  },
  {
   "cell_type": "code",
   "execution_count": 46,
   "metadata": {},
   "outputs": [
    {
     "data": {
      "text/html": [
       "<div>\n",
       "<style scoped>\n",
       "    .dataframe tbody tr th:only-of-type {\n",
       "        vertical-align: middle;\n",
       "    }\n",
       "\n",
       "    .dataframe tbody tr th {\n",
       "        vertical-align: top;\n",
       "    }\n",
       "\n",
       "    .dataframe thead th {\n",
       "        text-align: right;\n",
       "    }\n",
       "</style>\n",
       "<table border=\"1\" class=\"dataframe\">\n",
       "  <thead>\n",
       "    <tr style=\"text-align: right;\">\n",
       "      <th></th>\n",
       "      <th>Title</th>\n",
       "    </tr>\n",
       "  </thead>\n",
       "  <tbody>\n",
       "    <tr>\n",
       "      <th>0</th>\n",
       "      <td>Splitting a list</td>\n",
       "    </tr>\n",
       "    <tr>\n",
       "      <th>1</th>\n",
       "      <td>java.util.UUID.fromString not checking length</td>\n",
       "    </tr>\n",
       "    <tr>\n",
       "      <th>2</th>\n",
       "      <td>Split based by a-z character in an alphanumeri...</td>\n",
       "    </tr>\n",
       "  </tbody>\n",
       "</table>\n",
       "</div>"
      ],
      "text/plain": [
       "                                               Title\n",
       "0                                   Splitting a list\n",
       "1      java.util.UUID.fromString not checking length\n",
       "2  Split based by a-z character in an alphanumeri..."
      ]
     },
     "execution_count": 46,
     "metadata": {},
     "output_type": "execute_result"
    }
   ],
   "source": [
    "# Pandas\n",
    "pd.read_sql('SELECT Title FROM STACKOVERFLOW WHERE Tags IN (\"python\",\"java\",\"sql\") LIMIT 3'\n",
    "            , con=engine)"
   ]
  },
  {
   "cell_type": "markdown",
   "metadata": {},
   "source": [
    "### COUNT"
   ]
  },
  {
   "cell_type": "code",
   "execution_count": 47,
   "metadata": {},
   "outputs": [
    {
     "data": {
      "text/plain": [
       "30000"
      ]
     },
     "execution_count": 47,
     "metadata": {},
     "output_type": "execute_result"
    }
   ],
   "source": [
    "# SQLAlchemy ORM\n",
    "session.query(StackOverflow).count()"
   ]
  },
  {
   "cell_type": "code",
   "execution_count": 48,
   "metadata": {},
   "outputs": [
    {
     "data": {
      "text/plain": [
       "30000"
      ]
     },
     "execution_count": 48,
     "metadata": {},
     "output_type": "execute_result"
    }
   ],
   "source": [
    "# SQLAlchamy Core - SQL Expression Language\n",
    "query = text('SELECT COUNT(*) FROM STACKOVERFLOW')\n",
    "session.execute(query).scalar()  # scalar returns a single value (no tuple)"
   ]
  },
  {
   "cell_type": "code",
   "execution_count": 49,
   "metadata": {},
   "outputs": [
    {
     "data": {
      "text/html": [
       "<div>\n",
       "<style scoped>\n",
       "    .dataframe tbody tr th:only-of-type {\n",
       "        vertical-align: middle;\n",
       "    }\n",
       "\n",
       "    .dataframe tbody tr th {\n",
       "        vertical-align: top;\n",
       "    }\n",
       "\n",
       "    .dataframe thead th {\n",
       "        text-align: right;\n",
       "    }\n",
       "</style>\n",
       "<table border=\"1\" class=\"dataframe\">\n",
       "  <thead>\n",
       "    <tr style=\"text-align: right;\">\n",
       "      <th></th>\n",
       "      <th>COUNT(*)</th>\n",
       "    </tr>\n",
       "  </thead>\n",
       "  <tbody>\n",
       "    <tr>\n",
       "      <th>0</th>\n",
       "      <td>30000</td>\n",
       "    </tr>\n",
       "  </tbody>\n",
       "</table>\n",
       "</div>"
      ],
      "text/plain": [
       "   COUNT(*)\n",
       "0     30000"
      ]
     },
     "execution_count": 49,
     "metadata": {},
     "output_type": "execute_result"
    }
   ],
   "source": [
    "# Pandas\n",
    "pd.read_sql('SELECT COUNT(*) FROM STACKOVERFLOW', con=engine)"
   ]
  },
  {
   "cell_type": "markdown",
   "metadata": {},
   "source": [
    "### GROUP BY"
   ]
  },
  {
   "cell_type": "code",
   "execution_count": 50,
   "metadata": {},
   "outputs": [
    {
     "data": {
      "text/plain": [
       "[('android', 241), ('javascript', 148), ('php', 142)]"
      ]
     },
     "execution_count": 50,
     "metadata": {},
     "output_type": "execute_result"
    }
   ],
   "source": [
    "# SQLAlchemy ORM\n",
    "from sqlalchemy import func\n",
    "\n",
    "session.query(StackOverflow.Tags, func.count(StackOverflow.Tags)\n",
    "    ).group_by(StackOverflow.Tags\n",
    "    ).order_by(func.count(StackOverflow.Tags).desc()\n",
    "    ).limit(3).all()"
   ]
  },
  {
   "cell_type": "code",
   "execution_count": 51,
   "metadata": {},
   "outputs": [
    {
     "name": "stdout",
     "output_type": "stream",
     "text": [
      "SELECT \"STACKOVERFLOW\".\"Tags\" AS \"STACKOVERFLOW_Tags\", count(\"STACKOVERFLOW\".\"Tags\") AS count_1 \n",
      "FROM \"STACKOVERFLOW\" GROUP BY \"STACKOVERFLOW\".\"Tags\" ORDER BY count(\"STACKOVERFLOW\".\"Tags\") DESC\n",
      " LIMIT ? OFFSET ?\n"
     ]
    }
   ],
   "source": [
    "# Raw SQL Query\n",
    "print(session.query(StackOverflow.Tags, func.count(StackOverflow.Tags)\n",
    "    ).group_by(StackOverflow.Tags\n",
    "    ).order_by(func.count(StackOverflow.Tags).desc()\n",
    "    ).limit(3))"
   ]
  },
  {
   "cell_type": "code",
   "execution_count": 52,
   "metadata": {},
   "outputs": [
    {
     "data": {
      "text/plain": [
       "[('android', 241), ('javascript', 148), ('php', 142)]"
      ]
     },
     "execution_count": 52,
     "metadata": {},
     "output_type": "execute_result"
    }
   ],
   "source": [
    "# SQLAlchamy Core - SQL Expression Language\n",
    "query = text(\"\"\"SELECT Tags, COUNT(Tags)\n",
    "            FROM STACKOVERFLOW\n",
    "            GROUP BY Tags\n",
    "            ORDER BY COUNT(Tags) Desc\n",
    "            LIMIT 3\"\"\")\n",
    "session.execute(query).fetchall()"
   ]
  },
  {
   "cell_type": "code",
   "execution_count": 53,
   "metadata": {},
   "outputs": [
    {
     "data": {
      "text/html": [
       "<div>\n",
       "<style scoped>\n",
       "    .dataframe tbody tr th:only-of-type {\n",
       "        vertical-align: middle;\n",
       "    }\n",
       "\n",
       "    .dataframe tbody tr th {\n",
       "        vertical-align: top;\n",
       "    }\n",
       "\n",
       "    .dataframe thead th {\n",
       "        text-align: right;\n",
       "    }\n",
       "</style>\n",
       "<table border=\"1\" class=\"dataframe\">\n",
       "  <thead>\n",
       "    <tr style=\"text-align: right;\">\n",
       "      <th></th>\n",
       "      <th>Tags</th>\n",
       "      <th>COUNT(Tags)</th>\n",
       "    </tr>\n",
       "  </thead>\n",
       "  <tbody>\n",
       "    <tr>\n",
       "      <th>0</th>\n",
       "      <td>android</td>\n",
       "      <td>241</td>\n",
       "    </tr>\n",
       "    <tr>\n",
       "      <th>1</th>\n",
       "      <td>javascript</td>\n",
       "      <td>148</td>\n",
       "    </tr>\n",
       "    <tr>\n",
       "      <th>2</th>\n",
       "      <td>php</td>\n",
       "      <td>142</td>\n",
       "    </tr>\n",
       "    <tr>\n",
       "      <th>3</th>\n",
       "      <td>jquery</td>\n",
       "      <td>125</td>\n",
       "    </tr>\n",
       "    <tr>\n",
       "      <th>4</th>\n",
       "      <td>javascript jquery</td>\n",
       "      <td>118</td>\n",
       "    </tr>\n",
       "    <tr>\n",
       "      <th>5</th>\n",
       "      <td>java</td>\n",
       "      <td>109</td>\n",
       "    </tr>\n",
       "    <tr>\n",
       "      <th>6</th>\n",
       "      <td>c#</td>\n",
       "      <td>108</td>\n",
       "    </tr>\n",
       "    <tr>\n",
       "      <th>7</th>\n",
       "      <td>python</td>\n",
       "      <td>88</td>\n",
       "    </tr>\n",
       "    <tr>\n",
       "      <th>8</th>\n",
       "      <td>mysql</td>\n",
       "      <td>83</td>\n",
       "    </tr>\n",
       "    <tr>\n",
       "      <th>9</th>\n",
       "      <td>php mysql</td>\n",
       "      <td>77</td>\n",
       "    </tr>\n",
       "    <tr>\n",
       "      <th>10</th>\n",
       "      <td>c++</td>\n",
       "      <td>74</td>\n",
       "    </tr>\n",
       "    <tr>\n",
       "      <th>11</th>\n",
       "      <td>html css</td>\n",
       "      <td>74</td>\n",
       "    </tr>\n",
       "    <tr>\n",
       "      <th>12</th>\n",
       "      <td>ruby-on-rails</td>\n",
       "      <td>65</td>\n",
       "    </tr>\n",
       "    <tr>\n",
       "      <th>13</th>\n",
       "      <td>c# asp.net</td>\n",
       "      <td>64</td>\n",
       "    </tr>\n",
       "    <tr>\n",
       "      <th>14</th>\n",
       "      <td>iphone</td>\n",
       "      <td>62</td>\n",
       "    </tr>\n",
       "    <tr>\n",
       "      <th>15</th>\n",
       "      <td>asp.net</td>\n",
       "      <td>57</td>\n",
       "    </tr>\n",
       "    <tr>\n",
       "      <th>16</th>\n",
       "      <td>java android</td>\n",
       "      <td>43</td>\n",
       "    </tr>\n",
       "    <tr>\n",
       "      <th>17</th>\n",
       "      <td>r</td>\n",
       "      <td>35</td>\n",
       "    </tr>\n",
       "    <tr>\n",
       "      <th>18</th>\n",
       "      <td>css</td>\n",
       "      <td>34</td>\n",
       "    </tr>\n",
       "    <tr>\n",
       "      <th>19</th>\n",
       "      <td>c</td>\n",
       "      <td>33</td>\n",
       "    </tr>\n",
       "    <tr>\n",
       "      <th>20</th>\n",
       "      <td>mysql sql</td>\n",
       "      <td>32</td>\n",
       "    </tr>\n",
       "    <tr>\n",
       "      <th>21</th>\n",
       "      <td>android android-layout</td>\n",
       "      <td>28</td>\n",
       "    </tr>\n",
       "    <tr>\n",
       "      <th>22</th>\n",
       "      <td>iphone objective-c</td>\n",
       "      <td>28</td>\n",
       "    </tr>\n",
       "    <tr>\n",
       "      <th>23</th>\n",
       "      <td>objective-c</td>\n",
       "      <td>28</td>\n",
       "    </tr>\n",
       "    <tr>\n",
       "      <th>24</th>\n",
       "      <td>regex</td>\n",
       "      <td>28</td>\n",
       "    </tr>\n",
       "    <tr>\n",
       "      <th>25</th>\n",
       "      <td>ruby</td>\n",
       "      <td>28</td>\n",
       "    </tr>\n",
       "    <tr>\n",
       "      <th>26</th>\n",
       "      <td>sql</td>\n",
       "      <td>28</td>\n",
       "    </tr>\n",
       "    <tr>\n",
       "      <th>27</th>\n",
       "      <td>ruby-on-rails ruby</td>\n",
       "      <td>27</td>\n",
       "    </tr>\n",
       "    <tr>\n",
       "      <th>28</th>\n",
       "      <td>c# .net</td>\n",
       "      <td>26</td>\n",
       "    </tr>\n",
       "    <tr>\n",
       "      <th>29</th>\n",
       "      <td>javascript html</td>\n",
       "      <td>25</td>\n",
       "    </tr>\n",
       "  </tbody>\n",
       "</table>\n",
       "</div>"
      ],
      "text/plain": [
       "                      Tags  COUNT(Tags)\n",
       "0                  android          241\n",
       "1               javascript          148\n",
       "2                      php          142\n",
       "3                   jquery          125\n",
       "4        javascript jquery          118\n",
       "5                     java          109\n",
       "6                       c#          108\n",
       "7                   python           88\n",
       "8                    mysql           83\n",
       "9                php mysql           77\n",
       "10                     c++           74\n",
       "11                html css           74\n",
       "12           ruby-on-rails           65\n",
       "13              c# asp.net           64\n",
       "14                  iphone           62\n",
       "15                 asp.net           57\n",
       "16            java android           43\n",
       "17                       r           35\n",
       "18                     css           34\n",
       "19                       c           33\n",
       "20               mysql sql           32\n",
       "21  android android-layout           28\n",
       "22      iphone objective-c           28\n",
       "23             objective-c           28\n",
       "24                   regex           28\n",
       "25                    ruby           28\n",
       "26                     sql           28\n",
       "27      ruby-on-rails ruby           27\n",
       "28                 c# .net           26\n",
       "29         javascript html           25"
      ]
     },
     "execution_count": 53,
     "metadata": {},
     "output_type": "execute_result"
    }
   ],
   "source": [
    "# Pandas\n",
    "pd.read_sql(\"\"\"SELECT Tags, COUNT(Tags)\n",
    "            FROM STACKOVERFLOW\n",
    "            GROUP BY Tags\n",
    "            ORDER BY COUNT(Tags) Desc\n",
    "            LIMIT 30\n",
    "            \"\"\", con=engine)"
   ]
  },
  {
   "cell_type": "markdown",
   "metadata": {},
   "source": [
    "## Extra Material"
   ]
  },
  {
   "cell_type": "markdown",
   "metadata": {},
   "source": [
    "#### determine the schema of an existing table"
   ]
  },
  {
   "cell_type": "code",
   "execution_count": 54,
   "metadata": {},
   "outputs": [
    {
     "name": "stdout",
     "output_type": "stream",
     "text": [
      "name: index | type: BIGINT | nullable: True | primary_key: 0\n",
      "name: Id | type: BIGINT | nullable: True | primary_key: 0\n",
      "name: Title | type: TEXT | nullable: True | primary_key: 0\n",
      "name: Body | type: TEXT | nullable: True | primary_key: 0\n",
      "name: Tags | type: TEXT | nullable: True | primary_key: 0\n"
     ]
    }
   ],
   "source": [
    "from sqlalchemy import create_engine\n",
    "from sqlalchemy.engine import reflection\n",
    "\n",
    "insp = reflection.Inspector.from_engine(engine)\n",
    "for d in insp.get_columns('StackOverflow'):\n",
    "    print('name: {} | type: {} | nullable: {} | primary_key: {}'.format(\n",
    "        d['name'], d['type'], d['nullable'], d['primary_key']))"
   ]
  },
  {
   "cell_type": "markdown",
   "metadata": {},
   "source": [
    "#### load database iteratively from pandas"
   ]
  },
  {
   "cell_type": "code",
   "execution_count": 55,
   "metadata": {},
   "outputs": [],
   "source": [
    "import pandas as pd\n",
    "import datetime as dt\n",
    "import zipfile\n",
    "from sqlalchemy.orm import sessionmaker\n",
    "from sqlalchemy import create_engine"
   ]
  },
  {
   "cell_type": "code",
   "execution_count": 50,
   "metadata": {},
   "outputs": [
    {
     "ename": "FileNotFoundError",
     "evalue": "[Errno 2] No such file or directory: 'C:\\\\Users\\\\alsherman\\\\Downloads\\\\Train.zip'",
     "output_type": "error",
     "traceback": [
      "\u001b[1;31m---------------------------------------------------------------------------\u001b[0m",
      "\u001b[1;31mFileNotFoundError\u001b[0m                         Traceback (most recent call last)",
      "\u001b[1;32m<ipython-input-50-ca2cbc4cec12>\u001b[0m in \u001b[0;36m<module>\u001b[1;34m()\u001b[0m\n\u001b[0;32m     11\u001b[0m \u001b[0mstart\u001b[0m \u001b[1;33m=\u001b[0m \u001b[0mdt\u001b[0m\u001b[1;33m.\u001b[0m\u001b[0mdatetime\u001b[0m\u001b[1;33m.\u001b[0m\u001b[0mnow\u001b[0m\u001b[1;33m(\u001b[0m\u001b[1;33m)\u001b[0m\u001b[1;33m\u001b[0m\u001b[0m\n\u001b[0;32m     12\u001b[0m \u001b[0mchunksize\u001b[0m \u001b[1;33m=\u001b[0m \u001b[1;36m30000\u001b[0m\u001b[1;33m\u001b[0m\u001b[0m\n\u001b[1;32m---> 13\u001b[1;33m \u001b[0mzf\u001b[0m \u001b[1;33m=\u001b[0m \u001b[0mzipfile\u001b[0m\u001b[1;33m.\u001b[0m\u001b[0mZipFile\u001b[0m\u001b[1;33m(\u001b[0m\u001b[0mZIP_FILE_NAME\u001b[0m\u001b[1;33m)\u001b[0m\u001b[1;33m\u001b[0m\u001b[0m\n\u001b[0m\u001b[0;32m     14\u001b[0m \u001b[1;33m\u001b[0m\u001b[0m\n\u001b[0;32m     15\u001b[0m \u001b[0mengine\u001b[0m \u001b[1;33m=\u001b[0m \u001b[0mcreate_engine\u001b[0m\u001b[1;33m(\u001b[0m\u001b[0mDB_PATH\u001b[0m\u001b[1;33m)\u001b[0m\u001b[1;33m\u001b[0m\u001b[0m\n",
      "\u001b[1;32m~\\AppData\\Local\\Continuum\\anaconda3\\lib\\zipfile.py\u001b[0m in \u001b[0;36m__init__\u001b[1;34m(self, file, mode, compression, allowZip64)\u001b[0m\n\u001b[0;32m   1088\u001b[0m             \u001b[1;32mwhile\u001b[0m \u001b[1;32mTrue\u001b[0m\u001b[1;33m:\u001b[0m\u001b[1;33m\u001b[0m\u001b[0m\n\u001b[0;32m   1089\u001b[0m                 \u001b[1;32mtry\u001b[0m\u001b[1;33m:\u001b[0m\u001b[1;33m\u001b[0m\u001b[0m\n\u001b[1;32m-> 1090\u001b[1;33m                     \u001b[0mself\u001b[0m\u001b[1;33m.\u001b[0m\u001b[0mfp\u001b[0m \u001b[1;33m=\u001b[0m \u001b[0mio\u001b[0m\u001b[1;33m.\u001b[0m\u001b[0mopen\u001b[0m\u001b[1;33m(\u001b[0m\u001b[0mfile\u001b[0m\u001b[1;33m,\u001b[0m \u001b[0mfilemode\u001b[0m\u001b[1;33m)\u001b[0m\u001b[1;33m\u001b[0m\u001b[0m\n\u001b[0m\u001b[0;32m   1091\u001b[0m                 \u001b[1;32mexcept\u001b[0m \u001b[0mOSError\u001b[0m\u001b[1;33m:\u001b[0m\u001b[1;33m\u001b[0m\u001b[0m\n\u001b[0;32m   1092\u001b[0m                     \u001b[1;32mif\u001b[0m \u001b[0mfilemode\u001b[0m \u001b[1;32min\u001b[0m \u001b[0mmodeDict\u001b[0m\u001b[1;33m:\u001b[0m\u001b[1;33m\u001b[0m\u001b[0m\n",
      "\u001b[1;31mFileNotFoundError\u001b[0m: [Errno 2] No such file or directory: 'C:\\\\Users\\\\alsherman\\\\Downloads\\\\Train.zip'"
     ]
    }
   ],
   "source": [
    "# Change these to your zip and file to load\n",
    "ZIP_FILE_NAME = r'PATH_TO_ZIP'\n",
    "CSV_NAME = r'FILENAME'\n",
    "\n",
    "start = dt.datetime.now()\n",
    "chunksize = 30000\n",
    "zf = zipfile.ZipFile(ZIP_FILE_NAME)\n",
    "\n",
    "engine = create_engine(DB_PATH)\n",
    "for ind, df in enumerate(pd.read_csv(\n",
    "    zf.open(CSV_NAME), chunksize=chunksize, iterator=True, encoding='utf-8', nrows=30_000)):\n",
    "    \n",
    "    print('{} seconds: completed {} rows'.format(\n",
    "        (dt.datetime.now() - start).seconds, ind*chunksize))\n",
    "\n",
    "    df.to_sql('STACKOVERFLOW', con=engine, if_exists='replace')\n",
    " "
   ]
  },
  {
   "cell_type": "code",
   "execution_count": null,
   "metadata": {
    "collapsed": true
   },
   "outputs": [],
   "source": [
    "# Optional - Delete Table\n",
    "#session.execute(\"DELETE FROM STACKOVERFLOW\")\n",
    "#session.commit()"
   ]
  }
 ],
 "metadata": {
  "kernelspec": {
   "display_name": "Python 3",
   "language": "python",
   "name": "python3"
  },
  "language_info": {
   "codemirror_mode": {
    "name": "ipython",
    "version": 3
   },
   "file_extension": ".py",
   "mimetype": "text/x-python",
   "name": "python",
   "nbconvert_exporter": "python",
   "pygments_lexer": "ipython3",
   "version": "3.6.5"
  }
 },
 "nbformat": 4,
 "nbformat_minor": 2
}
